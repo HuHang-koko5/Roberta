{
 "cells": [
  {
   "cell_type": "code",
   "execution_count": 1,
   "id": "9f8c832d",
   "metadata": {},
   "outputs": [],
   "source": [
    "from model_utils import *"
   ]
  },
  {
   "cell_type": "code",
   "execution_count": 2,
   "id": "dc385c33",
   "metadata": {},
   "outputs": [],
   "source": [
    "FILE = \"./data/augmented_elmundo_1124.json\"\n",
    "DATASET_NAME = 'elmundo'\n",
    "LOG_DIR = \"./news-classification\"\n",
    "MAX_CATE_SIZE = 3000\n",
    "MODEL_NAME = 'skimai/spanberta-base-cased'\n",
    "MAX_SEQ_LENGTH = 128\n",
    "BATCH_SIZE = 128\n",
    "LEARN_RATE = 3e-5\n",
    "EPOCH = 3\n",
    "TASK = 'raw_model_aug'"
   ]
  },
  {
   "cell_type": "code",
   "execution_count": 3,
   "id": "7b2def27",
   "metadata": {},
   "outputs": [],
   "source": [
    "import datetime\n",
    "today = datetime.date.today().strftime(\"%m%d\")\n",
    "RESULT_DIR = 'results/{}-results-{}'.format(TASK,today)\n",
    "SUB_DIR = '/{}-{}'.format(LEARN_RATE, MAX_SEQ_LENGTH)\n",
    "if not os.path.exists(RESULT_DIR):\n",
    "    os.makedirs(RESULT_DIR)\n",
    "if not os.path.exists(\"{}{}\".format(RESULT_DIR,SUB_DIR)):\n",
    "    os.makedirs(\"{}{}\".format(RESULT_DIR,SUB_DIR))\n",
    "OUTPUT_PATH = RESULT_DIR + SUB_DIR"
   ]
  },
  {
   "cell_type": "code",
   "execution_count": 4,
   "id": "73d4dfda",
   "metadata": {},
   "outputs": [],
   "source": [
    "# classifier label set\n",
    "\n",
    "target_label = ['economia',  # economic\n",
    "              'internacional',  # international\n",
    "              'deportes',  # sports\n",
    "              'cultura',  # culture\n",
    "              'television',  # television\n",
    "              'ciencia-y-salud',  # science and health\n",
    "              'tecnologia',  # technology\n",
    "               ]\n",
    "# source item label set\n",
    "source_label = ['economia',  # economic\n",
    "              'internacional',  # international\n",
    "              'deportes',  # sports\n",
    "              'cultura',  # culture\n",
    "              'television',  # television\n",
    "              'ciencia-y-salud',  # science and health\n",
    "              'tecnologia',  # technology\n",
    "               ]\n",
    "source_label_dic = {}\n",
    "for idx, label in enumerate(source_label):\n",
    "    source_label_dic[label] = idx"
   ]
  },
  {
   "cell_type": "markdown",
   "id": "b9f2cd34",
   "metadata": {},
   "source": [
    "## Load Data"
   ]
  },
  {
   "cell_type": "code",
   "execution_count": 5,
   "id": "7e02a5e6",
   "metadata": {},
   "outputs": [],
   "source": [
    "def load_test_data(path,cate_size,type='JSON',percentage=1):\n",
    "    if type == \"JSON\":\n",
    "        df = pd.read_json(path)\n",
    "    else:\n",
    "        df = pd.read_csv(path)\n",
    "    df = df.iloc[np.random.permutation(len(df))]\n",
    "    df.describe()\n",
    "    labels = df['category'].tolist()\n",
    "    contents = df['content'].tolist()\n",
    "    label_dic = {}\n",
    "    final_size = int(len(contents) * percentage)\n",
    "    if percentage != 1:\n",
    "        contents = contents[:final_size]\n",
    "        labels = labels[:final_size]\n",
    "\n",
    "    # itos                                        \n",
    "    label_set = ['economia',  # economic\n",
    "              'internacional',  # international\n",
    "              'deportes',  # sports\n",
    "              'cultura',  # culture\n",
    "              'television',  # television\n",
    "              'ciencia-y-salud',  # science and health\n",
    "              'tecnologia',  # technology\n",
    "               ]\n",
    "    # stoi\n",
    "    for idx, label in enumerate(label_set):\n",
    "        label_dic[label] = idx\n",
    "    # shuffle\n",
    "    idx_list = list(range(0, len(labels), 1))\n",
    "    random.shuffle(idx_list)\n",
    "    shuffled_labels = []\n",
    "    shuffled_contents = []\n",
    "    for idp in idx_list:\n",
    "        shuffled_labels.append(labels[idp])\n",
    "        shuffled_contents.append(contents[idp])\n",
    "    print('Data loaded label:{} content:{} '.format(len(labels), len(contents)))\n",
    "    return shuffled_labels, shuffled_contents, label_set, label_dic"
   ]
  },
  {
   "cell_type": "code",
   "execution_count": 6,
   "id": "94f34f10",
   "metadata": {},
   "outputs": [],
   "source": [
    "class TestDataset(Dataset):\n",
    "    def __init__(self,labels,inputs,origins,ldic):\n",
    "        self.labels = labels\n",
    "        self.origins = origins\n",
    "        self.inputs = inputs\n",
    "        self.ldic = ldic\n",
    "        \n",
    "    def __len__(self):\n",
    "        return len(self.inputs)\n",
    "    \n",
    "    def __getitem__(self,idx):\n",
    "        y = self.labels[idx]\n",
    "        y_encoded = torch.Tensor([self.ldic.get(y,-1)]).long().squeeze(0)\n",
    "        res ={\n",
    "            'input_ids':self.inputs[idx]['input_ids'][0],\n",
    "            'attention_mask': self.inputs[idx]['attention_mask'][0],\n",
    "            'origin_contents':self.origins[idx],\n",
    "            'targets':y_encoded,\n",
    "        }\n",
    "        return res"
   ]
  },
  {
   "cell_type": "code",
   "execution_count": 7,
   "id": "a66cc41d",
   "metadata": {},
   "outputs": [
    {
     "name": "stdout",
     "output_type": "stream",
     "text": [
      "Data loaded label:214806 content:214806 \n"
     ]
    },
    {
     "name": "stderr",
     "output_type": "stream",
     "text": [
      "100%|██████████| 214806/214806 [00:49<00:00, 4308.47it/s]"
     ]
    },
    {
     "name": "stdout",
     "output_type": "stream",
     "text": [
      "Tokenizer loaded...\n",
      "encoding time costs: 54.9154736995697\n",
      "data loaded \n",
      "train:150364\n",
      "valid:32222\n",
      "test:32220\n"
     ]
    },
    {
     "name": "stderr",
     "output_type": "stream",
     "text": [
      "\n"
     ]
    }
   ],
   "source": [
    "# load test data and label info\n",
    "labels,contents,lset,ldic = load_test_data(FILE,MAX_CATE_SIZE)\n",
    "\n",
    "# encode\n",
    "start = time.time()\n",
    "encoding_list = pre_encode_list(MODEL_NAME,contents,MAX_SEQ_LENGTH)\n",
    "print(\"encoding time costs: {}\".format(time.time()-start))\n",
    "\n",
    "# load valid dataset \n",
    "train_dataset = NewsCategoryDataset(labels, encoding_list, contents, ldic )\n",
    "valid_dataset = NewsCategoryDataset(labels, encoding_list, contents, ldic, 'val')\n",
    "test_dataset = NewsCategoryDataset(labels, encoding_list, contents, ldic, 'test')\n",
    "print('data loaded \\ntrain:{}\\nvalid:{}\\ntest:{}'.format(len(train_dataset),\n",
    "                                                          len(valid_dataset),\n",
    "                                                          len(test_dataset)))\n",
    "      \n",
    "# dataloader\n",
    "train_val_loaders = {\n",
    "    \"train\": DataLoader(dataset=train_dataset,\n",
    "                        batch_size=BATCH_SIZE,\n",
    "                        shuffle=True),\n",
    "    \"valid\": DataLoader(dataset=valid_dataset,\n",
    "                        batch_size=BATCH_SIZE,\n",
    "                        shuffle=False),\n",
    "    \"test\": DataLoader(dataset=test_dataset,\n",
    "                       batch_size=BATCH_SIZE,\n",
    "                       shuffle=False)\n",
    "}"
   ]
  },
  {
   "cell_type": "code",
   "execution_count": 9,
   "id": "83d7e858",
   "metadata": {},
   "outputs": [
    {
     "data": {
      "text/plain": [
       "RobertaForSequenceClassification(\n",
       "  (bert): RobertaModel(\n",
       "    (embeddings): RobertaEmbeddings(\n",
       "      (word_embeddings): Embedding(50265, 768, padding_idx=1)\n",
       "      (position_embeddings): Embedding(514, 768, padding_idx=1)\n",
       "      (token_type_embeddings): Embedding(1, 768)\n",
       "      (LayerNorm): LayerNorm((768,), eps=1e-05, elementwise_affine=True)\n",
       "      (dropout): Dropout(p=0.1, inplace=False)\n",
       "    )\n",
       "    (encoder): RobertaEncoder(\n",
       "      (layer): ModuleList(\n",
       "        (0): RobertaLayer(\n",
       "          (attention): RobertaAttention(\n",
       "            (self): RobertaSelfAttention(\n",
       "              (query): Linear(in_features=768, out_features=768, bias=True)\n",
       "              (key): Linear(in_features=768, out_features=768, bias=True)\n",
       "              (value): Linear(in_features=768, out_features=768, bias=True)\n",
       "              (dropout): Dropout(p=0.1, inplace=False)\n",
       "            )\n",
       "            (output): RobertaSelfOutput(\n",
       "              (dense): Linear(in_features=768, out_features=768, bias=True)\n",
       "              (LayerNorm): LayerNorm((768,), eps=1e-05, elementwise_affine=True)\n",
       "              (dropout): Dropout(p=0.1, inplace=False)\n",
       "            )\n",
       "          )\n",
       "          (intermediate): RobertaIntermediate(\n",
       "            (dense): Linear(in_features=768, out_features=3072, bias=True)\n",
       "          )\n",
       "          (output): RobertaOutput(\n",
       "            (dense): Linear(in_features=3072, out_features=768, bias=True)\n",
       "            (LayerNorm): LayerNorm((768,), eps=1e-05, elementwise_affine=True)\n",
       "            (dropout): Dropout(p=0.1, inplace=False)\n",
       "          )\n",
       "        )\n",
       "        (1): RobertaLayer(\n",
       "          (attention): RobertaAttention(\n",
       "            (self): RobertaSelfAttention(\n",
       "              (query): Linear(in_features=768, out_features=768, bias=True)\n",
       "              (key): Linear(in_features=768, out_features=768, bias=True)\n",
       "              (value): Linear(in_features=768, out_features=768, bias=True)\n",
       "              (dropout): Dropout(p=0.1, inplace=False)\n",
       "            )\n",
       "            (output): RobertaSelfOutput(\n",
       "              (dense): Linear(in_features=768, out_features=768, bias=True)\n",
       "              (LayerNorm): LayerNorm((768,), eps=1e-05, elementwise_affine=True)\n",
       "              (dropout): Dropout(p=0.1, inplace=False)\n",
       "            )\n",
       "          )\n",
       "          (intermediate): RobertaIntermediate(\n",
       "            (dense): Linear(in_features=768, out_features=3072, bias=True)\n",
       "          )\n",
       "          (output): RobertaOutput(\n",
       "            (dense): Linear(in_features=3072, out_features=768, bias=True)\n",
       "            (LayerNorm): LayerNorm((768,), eps=1e-05, elementwise_affine=True)\n",
       "            (dropout): Dropout(p=0.1, inplace=False)\n",
       "          )\n",
       "        )\n",
       "        (2): RobertaLayer(\n",
       "          (attention): RobertaAttention(\n",
       "            (self): RobertaSelfAttention(\n",
       "              (query): Linear(in_features=768, out_features=768, bias=True)\n",
       "              (key): Linear(in_features=768, out_features=768, bias=True)\n",
       "              (value): Linear(in_features=768, out_features=768, bias=True)\n",
       "              (dropout): Dropout(p=0.1, inplace=False)\n",
       "            )\n",
       "            (output): RobertaSelfOutput(\n",
       "              (dense): Linear(in_features=768, out_features=768, bias=True)\n",
       "              (LayerNorm): LayerNorm((768,), eps=1e-05, elementwise_affine=True)\n",
       "              (dropout): Dropout(p=0.1, inplace=False)\n",
       "            )\n",
       "          )\n",
       "          (intermediate): RobertaIntermediate(\n",
       "            (dense): Linear(in_features=768, out_features=3072, bias=True)\n",
       "          )\n",
       "          (output): RobertaOutput(\n",
       "            (dense): Linear(in_features=3072, out_features=768, bias=True)\n",
       "            (LayerNorm): LayerNorm((768,), eps=1e-05, elementwise_affine=True)\n",
       "            (dropout): Dropout(p=0.1, inplace=False)\n",
       "          )\n",
       "        )\n",
       "        (3): RobertaLayer(\n",
       "          (attention): RobertaAttention(\n",
       "            (self): RobertaSelfAttention(\n",
       "              (query): Linear(in_features=768, out_features=768, bias=True)\n",
       "              (key): Linear(in_features=768, out_features=768, bias=True)\n",
       "              (value): Linear(in_features=768, out_features=768, bias=True)\n",
       "              (dropout): Dropout(p=0.1, inplace=False)\n",
       "            )\n",
       "            (output): RobertaSelfOutput(\n",
       "              (dense): Linear(in_features=768, out_features=768, bias=True)\n",
       "              (LayerNorm): LayerNorm((768,), eps=1e-05, elementwise_affine=True)\n",
       "              (dropout): Dropout(p=0.1, inplace=False)\n",
       "            )\n",
       "          )\n",
       "          (intermediate): RobertaIntermediate(\n",
       "            (dense): Linear(in_features=768, out_features=3072, bias=True)\n",
       "          )\n",
       "          (output): RobertaOutput(\n",
       "            (dense): Linear(in_features=3072, out_features=768, bias=True)\n",
       "            (LayerNorm): LayerNorm((768,), eps=1e-05, elementwise_affine=True)\n",
       "            (dropout): Dropout(p=0.1, inplace=False)\n",
       "          )\n",
       "        )\n",
       "        (4): RobertaLayer(\n",
       "          (attention): RobertaAttention(\n",
       "            (self): RobertaSelfAttention(\n",
       "              (query): Linear(in_features=768, out_features=768, bias=True)\n",
       "              (key): Linear(in_features=768, out_features=768, bias=True)\n",
       "              (value): Linear(in_features=768, out_features=768, bias=True)\n",
       "              (dropout): Dropout(p=0.1, inplace=False)\n",
       "            )\n",
       "            (output): RobertaSelfOutput(\n",
       "              (dense): Linear(in_features=768, out_features=768, bias=True)\n",
       "              (LayerNorm): LayerNorm((768,), eps=1e-05, elementwise_affine=True)\n",
       "              (dropout): Dropout(p=0.1, inplace=False)\n",
       "            )\n",
       "          )\n",
       "          (intermediate): RobertaIntermediate(\n",
       "            (dense): Linear(in_features=768, out_features=3072, bias=True)\n",
       "          )\n",
       "          (output): RobertaOutput(\n",
       "            (dense): Linear(in_features=3072, out_features=768, bias=True)\n",
       "            (LayerNorm): LayerNorm((768,), eps=1e-05, elementwise_affine=True)\n",
       "            (dropout): Dropout(p=0.1, inplace=False)\n",
       "          )\n",
       "        )\n",
       "        (5): RobertaLayer(\n",
       "          (attention): RobertaAttention(\n",
       "            (self): RobertaSelfAttention(\n",
       "              (query): Linear(in_features=768, out_features=768, bias=True)\n",
       "              (key): Linear(in_features=768, out_features=768, bias=True)\n",
       "              (value): Linear(in_features=768, out_features=768, bias=True)\n",
       "              (dropout): Dropout(p=0.1, inplace=False)\n",
       "            )\n",
       "            (output): RobertaSelfOutput(\n",
       "              (dense): Linear(in_features=768, out_features=768, bias=True)\n",
       "              (LayerNorm): LayerNorm((768,), eps=1e-05, elementwise_affine=True)\n",
       "              (dropout): Dropout(p=0.1, inplace=False)\n",
       "            )\n",
       "          )\n",
       "          (intermediate): RobertaIntermediate(\n",
       "            (dense): Linear(in_features=768, out_features=3072, bias=True)\n",
       "          )\n",
       "          (output): RobertaOutput(\n",
       "            (dense): Linear(in_features=3072, out_features=768, bias=True)\n",
       "            (LayerNorm): LayerNorm((768,), eps=1e-05, elementwise_affine=True)\n",
       "            (dropout): Dropout(p=0.1, inplace=False)\n",
       "          )\n",
       "        )\n",
       "        (6): RobertaLayer(\n",
       "          (attention): RobertaAttention(\n",
       "            (self): RobertaSelfAttention(\n",
       "              (query): Linear(in_features=768, out_features=768, bias=True)\n",
       "              (key): Linear(in_features=768, out_features=768, bias=True)\n",
       "              (value): Linear(in_features=768, out_features=768, bias=True)\n",
       "              (dropout): Dropout(p=0.1, inplace=False)\n",
       "            )\n",
       "            (output): RobertaSelfOutput(\n",
       "              (dense): Linear(in_features=768, out_features=768, bias=True)\n",
       "              (LayerNorm): LayerNorm((768,), eps=1e-05, elementwise_affine=True)\n",
       "              (dropout): Dropout(p=0.1, inplace=False)\n",
       "            )\n",
       "          )\n",
       "          (intermediate): RobertaIntermediate(\n",
       "            (dense): Linear(in_features=768, out_features=3072, bias=True)\n",
       "          )\n",
       "          (output): RobertaOutput(\n",
       "            (dense): Linear(in_features=3072, out_features=768, bias=True)\n",
       "            (LayerNorm): LayerNorm((768,), eps=1e-05, elementwise_affine=True)\n",
       "            (dropout): Dropout(p=0.1, inplace=False)\n",
       "          )\n",
       "        )\n",
       "        (7): RobertaLayer(\n",
       "          (attention): RobertaAttention(\n",
       "            (self): RobertaSelfAttention(\n",
       "              (query): Linear(in_features=768, out_features=768, bias=True)\n",
       "              (key): Linear(in_features=768, out_features=768, bias=True)\n",
       "              (value): Linear(in_features=768, out_features=768, bias=True)\n",
       "              (dropout): Dropout(p=0.1, inplace=False)\n",
       "            )\n",
       "            (output): RobertaSelfOutput(\n",
       "              (dense): Linear(in_features=768, out_features=768, bias=True)\n",
       "              (LayerNorm): LayerNorm((768,), eps=1e-05, elementwise_affine=True)\n",
       "              (dropout): Dropout(p=0.1, inplace=False)\n",
       "            )\n",
       "          )\n",
       "          (intermediate): RobertaIntermediate(\n",
       "            (dense): Linear(in_features=768, out_features=3072, bias=True)\n",
       "          )\n",
       "          (output): RobertaOutput(\n",
       "            (dense): Linear(in_features=3072, out_features=768, bias=True)\n",
       "            (LayerNorm): LayerNorm((768,), eps=1e-05, elementwise_affine=True)\n",
       "            (dropout): Dropout(p=0.1, inplace=False)\n",
       "          )\n",
       "        )\n",
       "        (8): RobertaLayer(\n",
       "          (attention): RobertaAttention(\n",
       "            (self): RobertaSelfAttention(\n",
       "              (query): Linear(in_features=768, out_features=768, bias=True)\n",
       "              (key): Linear(in_features=768, out_features=768, bias=True)\n",
       "              (value): Linear(in_features=768, out_features=768, bias=True)\n",
       "              (dropout): Dropout(p=0.1, inplace=False)\n",
       "            )\n",
       "            (output): RobertaSelfOutput(\n",
       "              (dense): Linear(in_features=768, out_features=768, bias=True)\n",
       "              (LayerNorm): LayerNorm((768,), eps=1e-05, elementwise_affine=True)\n",
       "              (dropout): Dropout(p=0.1, inplace=False)\n",
       "            )\n",
       "          )\n",
       "          (intermediate): RobertaIntermediate(\n",
       "            (dense): Linear(in_features=768, out_features=3072, bias=True)\n",
       "          )\n",
       "          (output): RobertaOutput(\n",
       "            (dense): Linear(in_features=3072, out_features=768, bias=True)\n",
       "            (LayerNorm): LayerNorm((768,), eps=1e-05, elementwise_affine=True)\n",
       "            (dropout): Dropout(p=0.1, inplace=False)\n",
       "          )\n",
       "        )\n",
       "        (9): RobertaLayer(\n",
       "          (attention): RobertaAttention(\n",
       "            (self): RobertaSelfAttention(\n",
       "              (query): Linear(in_features=768, out_features=768, bias=True)\n",
       "              (key): Linear(in_features=768, out_features=768, bias=True)\n",
       "              (value): Linear(in_features=768, out_features=768, bias=True)\n",
       "              (dropout): Dropout(p=0.1, inplace=False)\n",
       "            )\n",
       "            (output): RobertaSelfOutput(\n",
       "              (dense): Linear(in_features=768, out_features=768, bias=True)\n",
       "              (LayerNorm): LayerNorm((768,), eps=1e-05, elementwise_affine=True)\n",
       "              (dropout): Dropout(p=0.1, inplace=False)\n",
       "            )\n",
       "          )\n",
       "          (intermediate): RobertaIntermediate(\n",
       "            (dense): Linear(in_features=768, out_features=3072, bias=True)\n",
       "          )\n",
       "          (output): RobertaOutput(\n",
       "            (dense): Linear(in_features=3072, out_features=768, bias=True)\n",
       "            (LayerNorm): LayerNorm((768,), eps=1e-05, elementwise_affine=True)\n",
       "            (dropout): Dropout(p=0.1, inplace=False)\n",
       "          )\n",
       "        )\n",
       "        (10): RobertaLayer(\n",
       "          (attention): RobertaAttention(\n",
       "            (self): RobertaSelfAttention(\n",
       "              (query): Linear(in_features=768, out_features=768, bias=True)\n",
       "              (key): Linear(in_features=768, out_features=768, bias=True)\n",
       "              (value): Linear(in_features=768, out_features=768, bias=True)\n",
       "              (dropout): Dropout(p=0.1, inplace=False)\n",
       "            )\n",
       "            (output): RobertaSelfOutput(\n",
       "              (dense): Linear(in_features=768, out_features=768, bias=True)\n",
       "              (LayerNorm): LayerNorm((768,), eps=1e-05, elementwise_affine=True)\n",
       "              (dropout): Dropout(p=0.1, inplace=False)\n",
       "            )\n",
       "          )\n",
       "          (intermediate): RobertaIntermediate(\n",
       "            (dense): Linear(in_features=768, out_features=3072, bias=True)\n",
       "          )\n",
       "          (output): RobertaOutput(\n",
       "            (dense): Linear(in_features=3072, out_features=768, bias=True)\n",
       "            (LayerNorm): LayerNorm((768,), eps=1e-05, elementwise_affine=True)\n",
       "            (dropout): Dropout(p=0.1, inplace=False)\n",
       "          )\n",
       "        )\n",
       "        (11): RobertaLayer(\n",
       "          (attention): RobertaAttention(\n",
       "            (self): RobertaSelfAttention(\n",
       "              (query): Linear(in_features=768, out_features=768, bias=True)\n",
       "              (key): Linear(in_features=768, out_features=768, bias=True)\n",
       "              (value): Linear(in_features=768, out_features=768, bias=True)\n",
       "              (dropout): Dropout(p=0.1, inplace=False)\n",
       "            )\n",
       "            (output): RobertaSelfOutput(\n",
       "              (dense): Linear(in_features=768, out_features=768, bias=True)\n",
       "              (LayerNorm): LayerNorm((768,), eps=1e-05, elementwise_affine=True)\n",
       "              (dropout): Dropout(p=0.1, inplace=False)\n",
       "            )\n",
       "          )\n",
       "          (intermediate): RobertaIntermediate(\n",
       "            (dense): Linear(in_features=768, out_features=3072, bias=True)\n",
       "          )\n",
       "          (output): RobertaOutput(\n",
       "            (dense): Linear(in_features=3072, out_features=768, bias=True)\n",
       "            (LayerNorm): LayerNorm((768,), eps=1e-05, elementwise_affine=True)\n",
       "            (dropout): Dropout(p=0.1, inplace=False)\n",
       "          )\n",
       "        )\n",
       "      )\n",
       "    )\n",
       "    (pooler): RobertaPooler(\n",
       "      (dense): Linear(in_features=768, out_features=768, bias=True)\n",
       "      (activation): Tanh()\n",
       "    )\n",
       "  )\n",
       "  (MLP): Linear(in_features=768, out_features=7, bias=True)\n",
       ")"
      ]
     },
     "execution_count": 9,
     "metadata": {},
     "output_type": "execute_result"
    }
   ],
   "source": [
    "#load model\n",
    "model = RobertaForSequenceClassification(MODEL_NAME,len(source_label))\n",
    "model"
   ]
  },
  {
   "cell_type": "code",
   "execution_count": null,
   "id": "f26b21d7",
   "metadata": {},
   "outputs": [
    {
     "name": "stdout",
     "output_type": "stream",
     "text": [
      "epoch 0\n"
     ]
    },
    {
     "data": {
      "application/vnd.jupyter.widget-view+json": {
       "model_id": "274b448c7174488aae79eb4e4d85dad0",
       "version_major": 2,
       "version_minor": 0
      },
      "text/plain": [
       "  0%|          | 0/1175 [00:00<?, ?it/s]"
      ]
     },
     "metadata": {},
     "output_type": "display_data"
    },
    {
     "name": "stdout",
     "output_type": "stream",
     "text": [
      "Epoch 0 batch 563, loss: 0.5319 acc: 79.6875 \r"
     ]
    }
   ],
   "source": [
    "criterion = nn.CrossEntropyLoss()\n",
    "optimizer = torch.optim.Adam(model.parameters(),lr=LEARN_RATE)\n",
    "scheduler = torch.optim.lr_scheduler.ReduceLROnPlateau(optimizer)\n",
    "if torch.cuda.is_available():\n",
    "    model = nn.DataParallel(model)\n",
    "    model.cuda()\n",
    "acclist,losslist = train_classifier(model,EPOCH,LEARN_RATE, MAX_SEQ_LENGTH,\n",
    "                                    train_val_loaders,criterion,today,\n",
    "                                    optimizer,scheduler, path=OUTPUT_PATH)"
   ]
  },
  {
   "cell_type": "markdown",
   "id": "74d02d9f",
   "metadata": {},
   "source": [
    "## Acc and loss"
   ]
  },
  {
   "cell_type": "code",
   "execution_count": 10,
   "id": "b912e71a",
   "metadata": {},
   "outputs": [],
   "source": [
    "import matplotlib.pyplot as plt\n",
    "batch_step = 50\n",
    "new_acc = acclist[0::batch_step]\n",
    "new_loss = losslist[0::batch_step]\n",
    " \n",
    "x_label = [i*batch_step for i in range(len(new_acc))]\n",
    "new_acc = [np.mean(np.array(acclist[i*batch_step:(i+1)*batch_step])) for i in range(len(new_acc))]\n",
    "loss_acc = [np.mean(np.array(losslist[i*batch_step:(i+1)*batch_step])) for i in range(len(new_loss))]"
   ]
  },
  {
   "cell_type": "code",
   "execution_count": 11,
   "id": "889bd742",
   "metadata": {},
   "outputs": [
    {
     "data": {
      "image/png": "[encoded data removed]",
      "text/plain": [
       "<Figure size 720x720 with 2 Axes>"
      ]
     },
     "metadata": {
      "needs_background": "light"
     },
     "output_type": "display_data"
    },
    {
     "data": {
      "text/plain": [
       "<Figure size 432x288 with 0 Axes>"
      ]
     },
     "metadata": {},
     "output_type": "display_data"
    }
   ],
   "source": [
    "plt.figure(figsize=(10,10))\n",
    "ax1 = plt.subplot(2,1,1,)\n",
    "ax1.plot(x_label,new_acc)\n",
    "ax1.set_title('Avg acc sampling every {} batch'.format(batch_step))\n",
    "ax2 = plt.subplot(2,1,2,sharex=ax1)\n",
    "ax2.plot(x_label,new_loss)\n",
    "ax2.set_title('Avg loss sampling every {} batch'.format(batch_step))\n",
    "plt.subplots_adjust(wspace =0, hspace =0.5)\n",
    "plt.show()\n",
    "plt.savefig('./img/{}-{}-acc-loss.jpg'.format(LEARN_RATE,MAX_SEQ_LENGTH))"
   ]
  },
  {
   "cell_type": "code",
   "execution_count": 12,
   "id": "2c6b58c4",
   "metadata": {},
   "outputs": [],
   "source": [
    "#visualization\n",
    "from sklearn.metrics import confusion_matrix\n",
    "import matplotlib.pyplot as plt\n",
    "import seaborn as sns"
   ]
  },
  {
   "cell_type": "code",
   "execution_count": 13,
   "id": "cfa7b738",
   "metadata": {},
   "outputs": [
    {
     "data": {
      "application/vnd.jupyter.widget-view+json": {
       "model_id": "b0c17b9baa2c4d91ad0be4e3320f0b5a",
       "version_major": 2,
       "version_minor": 0
      },
      "text/plain": [
       "  0%|          | 0/252 [00:00<?, ?it/s]"
      ]
     },
     "metadata": {},
     "output_type": "display_data"
    },
    {
     "name": "stdout",
     "output_type": "stream",
     "text": [
      "32222\n",
      "[2, 2, 3, 2, 0, 2, 3, 3, 0, 4, 0, 0, 2, 3, 1]\n",
      "32222\n",
      "[2, 2, 3, 2, 0, 2, 3, 3, 0, 4, 0, 0, 2, 3, 1]\n"
     ]
    }
   ],
   "source": [
    "iterator = train_val_loaders\n",
    "true_labels = []\n",
    "pred_labels = []\n",
    "\n",
    "model.eval()\n",
    "tkz = AutoTokenizer.from_pretrained(MODEL_NAME)\n",
    "with torch.no_grad():\n",
    "    for ba,data in enumerate(notetqdm(iterator['valid'])):\n",
    "        features = data['input_ids'].cuda()\n",
    "        att_mask = data['attention_mask'].cuda()\n",
    "        targets = data['targets']\n",
    "        origins = data['origin_contents']\n",
    "        targets.numpy()\n",
    "        # print(len(origins), len(targets))\n",
    "        true_labels += targets.tolist()\n",
    "        outputs = model(features,att_mask)\n",
    "        outputs = outputs.cpu().detach().numpy()\n",
    "        outputs = np.argmax(outputs, axis=1)\n",
    "        # print screen \n",
    "        # print(len(data))\n",
    "        #for i in range(len(origins)):\n",
    "            #print(\"idx:{}\".format(i))\n",
    "            #print(origins[i])\n",
    "            #print('pred: ',target_label[outputs[i]])\n",
    "            #print('true: ',source_label[targets[i]])\n",
    "            #print('--------------')\n",
    "        pred_labels += outputs.tolist()\n",
    "    print(len(true_labels))\n",
    "    print(true_labels[:15])\n",
    "    print(len(pred_labels))\n",
    "    print(pred_labels[:15])\n",
    "        "
   ]
  },
  {
   "cell_type": "code",
   "execution_count": 14,
   "id": "4a3ea46e",
   "metadata": {},
   "outputs": [
    {
     "name": "stdout",
     "output_type": "stream",
     "text": [
      "7 7\n"
     ]
    },
    {
     "data": {
      "image/png": "[encoded data removed]",
      "text/plain": [
       "<Figure size 1440x720 with 2 Axes>"
      ]
     },
     "metadata": {
      "needs_background": "light"
     },
     "output_type": "display_data"
    }
   ],
   "source": [
    "true_cate = [source_label[i] for i in true_labels]\n",
    "pred_cate = [target_label[j] for j in pred_labels]\n",
    "\n",
    "con_mat = confusion_matrix(true_cate,pred_cate)\n",
    "con_mat_norm = con_mat.astype('float') / con_mat.sum(axis=1)[:, np.newaxis]     # nomalization\n",
    "con_mat_norm = np.around(con_mat_norm, decimals=2)\n",
    "\n",
    "# =====diy confusion matrix=====\n",
    "matrix = [[0 for i in range(len(target_label))] for j in range(len(source_label))]\n",
    "print(len(matrix),len(matrix[0]))\n",
    "sums = [0 for i in range(len(source_label))]\n",
    "for x,y in  zip(true_labels,pred_labels):\n",
    "    matrix[x][y] += 1\n",
    "    sums[x] += 1\n",
    "# normalization\n",
    "for i in range(len(source_label)):\n",
    "    for j in range(len(target_label)):\n",
    "        matrix[i][j] /= sums[i]\n",
    "    \n",
    "# === plot ===\n",
    "fig = plt.figure(figsize=(20, 10))\n",
    "sns.heatmap(matrix, annot=True, cmap='Blues')\n",
    "catex = list(range(0,len(target_label),1))\n",
    "catey = list(range(0,len(source_label),1))\n",
    "fig.suptitle('elmundo',fontsize=20)\n",
    "\n",
    "plt.xlabel('Predicted labels')\n",
    "plt.xticks(catex,target_label)\n",
    "plt.xticks(rotation=90)\n",
    "\n",
    "plt.ylabel('True labels')\n",
    "plt.yticks(catey,source_label)\n",
    "plt.yticks(rotation=360)\n",
    "plt.show()\n",
    "# plt.savefig('./img/{}-{}-matrix.jpg'.format(init_lr,MAX_SEQ_LENGTH))"
   ]
  },
  {
   "cell_type": "code",
   "execution_count": null,
   "id": "61eedba2",
   "metadata": {},
   "outputs": [],
   "source": [
    "from sklearn import metrics\n",
    "f1 = metrics.f1_score(cate_y,cate_x)\n"
   ]
  },
  {
   "cell_type": "code",
   "execution_count": null,
   "id": "2f456916",
   "metadata": {},
   "outputs": [],
   "source": []
  }
 ],
 "metadata": {
  "kernelspec": {
   "display_name": "Python 3",
   "language": "python",
   "name": "python3"
  },
  "language_info": {
   "codemirror_mode": {
    "name": "ipython",
    "version": 3
   },
   "file_extension": ".py",
   "mimetype": "text/x-python",
   "name": "python",
   "nbconvert_exporter": "python",
   "pygments_lexer": "ipython3",
   "version": "3.7.10"
  }
 },
 "nbformat": 4,
 "nbformat_minor": 5
}
