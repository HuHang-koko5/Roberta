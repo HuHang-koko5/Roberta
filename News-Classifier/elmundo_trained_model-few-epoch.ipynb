{
 "cells": [
  {
   "cell_type": "code",
   "execution_count": 2,
   "id": "e21cd43b",
   "metadata": {},
   "outputs": [],
   "source": [
    "from model_utils import *"
   ]
  },
  {
   "cell_type": "code",
   "execution_count": 3,
   "id": "8e358114",
   "metadata": {},
   "outputs": [],
   "source": [
    "FILE = \"./data/augmented_elmundo_1124.json\"\n",
    "DATASET_NAME = 'elmundo'\n",
    "LOG_DIR = \"./news-classification\"\n",
    "MAX_CATE_SIZE = 20000\n",
    "MODEL_NAME = 'skimai/spanberta-base-cased'\n",
    "MAX_SEQ_LENGTH = 128\n",
    "BATCH_SIZE = 128\n",
    "LEARN_RATE = 3e-5\n",
    "EPOCH = 5\n",
    "TASK = 'elmundo_on_trained'"
   ]
  },
  {
   "cell_type": "code",
   "execution_count": 4,
   "id": "2896b72e",
   "metadata": {},
   "outputs": [],
   "source": [
    "import datetime\n",
    "today = datetime.date.today().strftime(\"%m%d\")\n",
    "RESULT_DIR = 'results/{}-{}'.format(TASK,today)\n",
    "SUB_DIR = '/{}-{}'.format(LEARN_RATE, MAX_SEQ_LENGTH)\n",
    "if not os.path.exists(RESULT_DIR):\n",
    "    os.makedirs(RESULT_DIR)\n",
    "if not os.path.exists(\"{}{}\".format(RESULT_DIR,SUB_DIR)):\n",
    "    os.makedirs(\"{}{}\".format(RESULT_DIR,SUB_DIR))\n",
    "OUTPUT_PATH = RESULT_DIR + SUB_DIR"
   ]
  },
  {
   "cell_type": "code",
   "execution_count": 5,
   "id": "86f1920c",
   "metadata": {},
   "outputs": [],
   "source": [
    "# classifier label set\n",
    "\n",
    "target_label = ['economia',  # economic\n",
    "              'internacional',  # international\n",
    "              'deportes',  # sports\n",
    "              'cultura',  # culture\n",
    "              'television',  # television\n",
    "              'ciencia-y-salud',  # science and health\n",
    "              'tecnologia',  # technology\n",
    "               ]\n",
    "# source item label set\n",
    "source_label = ['economia',  # economic\n",
    "              'internacional',  # international\n",
    "              'deportes',  # sports\n",
    "              'cultura',  # culture\n",
    "              'television',  # television\n",
    "              'ciencia-y-salud',  # science and health\n",
    "              'tecnologia',  # technology\n",
    "               ]\n",
    "source_label_dic = {}\n",
    "for idx, label in enumerate(source_label):\n",
    "    source_label_dic[label] = idx"
   ]
  },
  {
   "cell_type": "markdown",
   "id": "21ffec15",
   "metadata": {},
   "source": [
    "## Load Data"
   ]
  },
  {
   "cell_type": "code",
   "execution_count": 6,
   "id": "007d0ae9",
   "metadata": {},
   "outputs": [],
   "source": [
    "class TestDataset(Dataset):\n",
    "    def __init__(self,labels,inputs,origins,ldic):\n",
    "        self.labels = labels\n",
    "        self.origins = origins\n",
    "        self.inputs = inputs\n",
    "        self.ldic = ldic\n",
    "        \n",
    "    def __len__(self):\n",
    "        return len(self.inputs)\n",
    "    \n",
    "    def __getitem__(self,idx):\n",
    "        y = self.labels[idx]\n",
    "        y_encoded = torch.Tensor([self.ldic.get(y,-1)]).long().squeeze(0)\n",
    "        res ={\n",
    "            'input_ids':self.inputs[idx]['input_ids'][0],\n",
    "            'attention_mask': self.inputs[idx]['attention_mask'][0],\n",
    "            'origin_contents':self.origins[idx],\n",
    "            'targets':y_encoded,\n",
    "        }\n",
    "        return res"
   ]
  },
  {
   "cell_type": "code",
   "execution_count": 7,
   "id": "f0334f7f",
   "metadata": {},
   "outputs": [
    {
     "name": "stdout",
     "output_type": "stream",
     "text": [
      "Data loaded:  98671 98671\n"
     ]
    },
    {
     "name": "stderr",
     "output_type": "stream",
     "text": [
      "100%|██████████| 98671/98671 [00:22<00:00, 4332.73it/s]\n"
     ]
    },
    {
     "name": "stdout",
     "output_type": "stream",
     "text": [
      "Tokenizer loaded...\n",
      "encoding time costs: 31.510071277618408\n",
      "data loaded \n",
      "train:69069\n",
      "valid:14802\n",
      "test:14800\n"
     ]
    }
   ],
   "source": [
    "# load test data and label info\n",
    "labels,contents,lset,ldic = load_test_data(FILE,MAX_CATE_SIZE,percentage=1)\n",
    "\n",
    "# encode\n",
    "start = time.time()\n",
    "encoding_list = pre_encode_list(MODEL_NAME,contents,MAX_SEQ_LENGTH)\n",
    "print(\"encoding time costs: {}\".format(time.time()-start))\n",
    "\n",
    "# load valid dataset \n",
    "train_dataset = NewsCategoryDataset(labels, encoding_list, contents, ldic )\n",
    "valid_dataset = NewsCategoryDataset(labels, encoding_list, contents, ldic, 'val')\n",
    "test_dataset = NewsCategoryDataset(labels, encoding_list, contents, ldic, 'test')\n",
    "print('data loaded \\ntrain:{}\\nvalid:{}\\ntest:{}'.format(len(train_dataset),\n",
    "                                                          len(valid_dataset),\n",
    "                                                          len(test_dataset)))\n",
    "      \n",
    "# dataloader\n",
    "train_val_loaders = {\n",
    "    \"train\": DataLoader(dataset=train_dataset,\n",
    "                        batch_size=BATCH_SIZE,\n",
    "                        shuffle=True),\n",
    "    \"valid\": DataLoader(dataset=valid_dataset,\n",
    "                        batch_size=BATCH_SIZE,\n",
    "                        shuffle=False),\n",
    "    \"test\": DataLoader(dataset=test_dataset,\n",
    "                       batch_size=BATCH_SIZE,\n",
    "                       shuffle=False)\n",
    "}"
   ]
  },
  {
   "cell_type": "code",
   "execution_count": 9,
   "id": "93008b7c",
   "metadata": {
    "scrolled": true
   },
   "outputs": [],
   "source": [
    "#load model\n",
    "source_dict = './results/NewsCate-finetune-1121/3e-05-128/1121-epoch-4.pth'\n",
    "model = RobertaForSequenceClassification(MODEL_NAME,len(lset))\n",
    "#Parameter\n",
    "# source \n",
    "# source_model category number\n",
    "# keep_MLP\n",
    "model.load_dict(source_dict,26,False)"
   ]
  },
  {
   "cell_type": "code",
   "execution_count": 10,
   "id": "d07ceab3",
   "metadata": {},
   "outputs": [
    {
     "name": "stdout",
     "output_type": "stream",
     "text": [
      "epoch 0\n"
     ]
    },
    {
     "data": {
      "application/vnd.jupyter.widget-view+json": {
       "model_id": "75a41bb6ffa84b5fabefe5c1bb56bc7f",
       "version_major": 2,
       "version_minor": 0
      },
      "text/plain": [
       "  0%|          | 0/540 [00:00<?, ?it/s]"
      ]
     },
     "metadata": {},
     "output_type": "display_data"
    },
    {
     "name": "stdout",
     "output_type": "stream",
     "text": [
      "Epoch 0 batch 539, loss: 0.6054 acc: 84.4156 \n",
      "validating...\n",
      "After Epoch 0 , valid acc: 0.7576003242805026, avg loss1.0760200201361267  avg acc0.6012015617484366\n",
      "epoch 1\n"
     ]
    },
    {
     "data": {
      "application/vnd.jupyter.widget-view+json": {
       "model_id": "3297111193be4a28b1261cf028b4c2f1",
       "version_major": 2,
       "version_minor": 0
      },
      "text/plain": [
       "  0%|          | 0/540 [00:00<?, ?it/s]"
      ]
     },
     "metadata": {},
     "output_type": "display_data"
    },
    {
     "name": "stdout",
     "output_type": "stream",
     "text": [
      "Epoch 1 batch 539, loss: 0.3577 acc: 88.3117 \n",
      "validating...\n",
      "After Epoch 1 , valid acc: 0.8729901364680449, avg loss0.7737103058646123  avg acc0.7210148358585858\n",
      "epoch 2\n"
     ]
    },
    {
     "data": {
      "application/vnd.jupyter.widget-view+json": {
       "model_id": "49670d6e9dd242d2b28dc45f5e854225",
       "version_major": 2,
       "version_minor": 0
      },
      "text/plain": [
       "  0%|          | 0/540 [00:00<?, ?it/s]"
      ]
     },
     "metadata": {},
     "output_type": "display_data"
    },
    {
     "name": "stdout",
     "output_type": "stream",
     "text": [
      "Epoch 2 batch 539, loss: 0.07933 acc: 97.4026 \n",
      "validating...\n",
      "After Epoch 2 , valid acc: 0.9126469396027563, avg loss0.589723698505097  avg acc0.7910337877785794\n",
      "epoch 3\n"
     ]
    },
    {
     "data": {
      "application/vnd.jupyter.widget-view+json": {
       "model_id": "1ff299ccc8784fc0b01e5e4ae65c20e6",
       "version_major": 2,
       "version_minor": 0
      },
      "text/plain": [
       "  0%|          | 0/540 [00:00<?, ?it/s]"
      ]
     },
     "metadata": {},
     "output_type": "display_data"
    },
    {
     "name": "stdout",
     "output_type": "stream",
     "text": [
      "Epoch 3 batch 539, loss: 0.09843 acc: 96.1039 \n",
      "validating...\n",
      "After Epoch 3 , valid acc: 0.9315633022564518, avg loss0.4723899000552828  avg acc0.8345188773899711\n",
      "epoch 4\n"
     ]
    },
    {
     "data": {
      "application/vnd.jupyter.widget-view+json": {
       "model_id": "ca44228205f64c7aa60287e29f479cb0",
       "version_major": 2,
       "version_minor": 0
      },
      "text/plain": [
       "  0%|          | 0/540 [00:00<?, ?it/s]"
      ]
     },
     "metadata": {},
     "output_type": "display_data"
    },
    {
     "name": "stdout",
     "output_type": "stream",
     "text": [
      "Epoch 4 batch 539, loss: 0.02776 acc: 97.4026 \n",
      "validating...\n",
      "After Epoch 4 , valid acc: 0.9381164707471963, avg loss0.39258136610862693  avg acc0.8634648569023569\n"
     ]
    }
   ],
   "source": [
    "criterion = nn.CrossEntropyLoss()\n",
    "optimizer = torch.optim.Adam(model.parameters(),lr=LEARN_RATE)\n",
    "scheduler = torch.optim.lr_scheduler.ReduceLROnPlateau(optimizer)\n",
    "if torch.cuda.is_available():\n",
    "    model = nn.DataParallel(model)\n",
    "    model.cuda()\n",
    "acclist,losslist = train_classifier(model,EPOCH,LEARN_RATE, MAX_SEQ_LENGTH,\n",
    "                                    train_val_loaders,criterion,today,\n",
    "                                    optimizer,scheduler, path=OUTPUT_PATH)"
   ]
  },
  {
   "cell_type": "markdown",
   "id": "d6196d71",
   "metadata": {},
   "source": [
    "## Acc and loss"
   ]
  },
  {
   "cell_type": "code",
   "execution_count": 11,
   "id": "363e068b",
   "metadata": {},
   "outputs": [],
   "source": [
    "import matplotlib.pyplot as plt\n",
    "batch_step = 50\n",
    "new_acc = acclist[0::batch_step]\n",
    "new_loss = losslist[0::batch_step]\n",
    "\n",
    "x_label = [i*batch_step for i in range(len(new_acc))]\n",
    "new_acc = [np.mean(np.array(acclist[i*batch_step:(i+1)*batch_step])) for i in range(len(new_acc))]\n",
    "loss_acc = [np.mean(np.array(losslist[i*batch_step:(i+1)*batch_step])) for i in range(len(new_loss))]"
   ]
  },
  {
   "cell_type": "code",
   "execution_count": 12,
   "id": "ff16952d",
   "metadata": {},
   "outputs": [
    {
     "data": {
      "image/png": "[encoded data removed]",
      "text/plain": [
       "<Figure size 720x720 with 2 Axes>"
      ]
     },
     "metadata": {
      "needs_background": "light"
     },
     "output_type": "display_data"
    },
    {
     "data": {
      "text/plain": [
       "<Figure size 432x288 with 0 Axes>"
      ]
     },
     "metadata": {},
     "output_type": "display_data"
    }
   ],
   "source": [
    "plt.figure(figsize=(10,10))\n",
    "ax1 = plt.subplot(2,1,1,)\n",
    "ax1.plot(x_label,new_acc)\n",
    "ax1.set_title('Avg acc sampling every {} batch'.format(batch_step))\n",
    "ax2 = plt.subplot(2,1,2,sharex=ax1)\n",
    "ax2.plot(x_label,new_loss)\n",
    "ax2.set_title('Avg loss sampling every {} batch'.format(batch_step))\n",
    "plt.subplots_adjust(wspace =0, hspace =0.5)\n",
    "plt.show()\n",
    "plt.savefig('./img/{}-{}-acc-loss.jpg'.format(LEARN_RATE,MAX_SEQ_LENGTH))"
   ]
  },
  {
   "cell_type": "code",
   "execution_count": 13,
   "id": "9826098c",
   "metadata": {},
   "outputs": [],
   "source": [
    "#visualization\n",
    "from sklearn.metrics import confusion_matrix\n",
    "import matplotlib.pyplot as plt\n",
    "import seaborn as sns"
   ]
  },
  {
   "cell_type": "code",
   "execution_count": 14,
   "id": "759194fc",
   "metadata": {},
   "outputs": [
    {
     "data": {
      "application/vnd.jupyter.widget-view+json": {
       "model_id": "246a8cb384634122a0c7b9739eb6f798",
       "version_major": 2,
       "version_minor": 0
      },
      "text/plain": [
       "  0%|          | 0/116 [00:00<?, ?it/s]"
      ]
     },
     "metadata": {},
     "output_type": "display_data"
    },
    {
     "name": "stdout",
     "output_type": "stream",
     "text": [
      "14802\n",
      "[0, 5, 0, 3, 0, 5, 5, 1, 2, 3, 4, 2, 4, 5, 2]\n",
      "14802\n",
      "[0, 5, 0, 3, 0, 5, 5, 1, 2, 3, 4, 2, 4, 5, 2]\n"
     ]
    }
   ],
   "source": [
    "iterator = train_val_loaders\n",
    "true_labels = []\n",
    "pred_labels = []\n",
    "\n",
    "model.eval()\n",
    "tkz = AutoTokenizer.from_pretrained(MODEL_NAME)\n",
    "with torch.no_grad():\n",
    "    for ba,data in enumerate(notetqdm(iterator['valid'])):\n",
    "        features = data['input_ids'].cuda()\n",
    "        att_mask = data['attention_mask'].cuda()\n",
    "        targets = data['targets']\n",
    "        origins = data['origin_contents']\n",
    "        targets.numpy()\n",
    "        # print(len(origins), len(targets))\n",
    "        true_labels += targets.tolist()\n",
    "        outputs = model(features,att_mask)\n",
    "        outputs = outputs.cpu().detach().numpy()\n",
    "        outputs = np.argmax(outputs, axis=1)\n",
    "        # print screen \n",
    "        # print(len(data))\n",
    "        '''\n",
    "        for i in range(len(origins)):\n",
    "            print(\"idx:{}\".format(i))\n",
    "            print(origins[i])\n",
    "            print('pred: ',target_label[outputs[i]])\n",
    "            print('true: ',source_label[targets[i]])\n",
    "            print('--------------')\n",
    "        '''\n",
    "        pred_labels += outputs.tolist()\n",
    "    print(len(true_labels))\n",
    "    print(true_labels[:15])\n",
    "    print(len(pred_labels))\n",
    "    print(pred_labels[:15])\n",
    "        "
   ]
  },
  {
   "cell_type": "code",
   "execution_count": 15,
   "id": "fdfa908b",
   "metadata": {},
   "outputs": [
    {
     "name": "stdout",
     "output_type": "stream",
     "text": [
      "7 7\n"
     ]
    },
    {
     "data": {
      "image/png": "[encoded data removed]",
      "text/plain": [
       "<Figure size 1440x720 with 2 Axes>"
      ]
     },
     "metadata": {
      "needs_background": "light"
     },
     "output_type": "display_data"
    }
   ],
   "source": [
    "true_cate = [source_label[i] for i in true_labels]\n",
    "pred_cate = [target_label[j] for j in pred_labels]\n",
    "\n",
    "con_mat = confusion_matrix(true_cate,pred_cate)\n",
    "con_mat_norm = con_mat.astype('float') / con_mat.sum(axis=1)[:, np.newaxis]     # nomalization\n",
    "con_mat_norm = np.around(con_mat_norm, decimals=2)\n",
    "\n",
    "# =====diy confusion matrix=====\n",
    "matrix = [[0 for i in range(len(target_label))] for j in range(len(source_label))]\n",
    "print(len(matrix),len(matrix[0]))\n",
    "sums = [0 for i in range(len(source_label))]\n",
    "for x,y in  zip(true_labels,pred_labels):\n",
    "    matrix[x][y] += 1\n",
    "    sums[x] += 1\n",
    "# normalization\n",
    "for i in range(len(source_label)):\n",
    "    for j in range(len(target_label)):\n",
    "        matrix[i][j] /= sums[i]\n",
    "    \n",
    "# === plot ===\n",
    "fig = plt.figure(figsize=(20, 10))\n",
    "sns.heatmap(matrix, annot=True, cmap='Blues')\n",
    "catex = list(range(0,len(target_label),1))\n",
    "catey = list(range(0,len(source_label),1))\n",
    "fig.suptitle('elmundo',fontsize=20)\n",
    "\n",
    "plt.xlabel('Predicted labels')\n",
    "plt.xticks(catex,target_label)\n",
    "plt.xticks(rotation=90)\n",
    "\n",
    "plt.ylabel('True labels')\n",
    "plt.yticks(catey,source_label)\n",
    "plt.yticks(rotation=360)\n",
    "plt.show()\n",
    "# plt.savefig('./img/{}-{}-matrix.jpg'.format(init_lr,MAX_SEQ_LENGTH))"
   ]
  },
  {
   "cell_type": "code",
   "execution_count": null,
   "id": "d29dcc73",
   "metadata": {},
   "outputs": [],
   "source": []
  }
 ],
 "metadata": {
  "kernelspec": {
   "display_name": "Python 3",
   "language": "python",
   "name": "python3"
  },
  "language_info": {
   "codemirror_mode": {
    "name": "ipython",
    "version": 3
   },
   "file_extension": ".py",
   "mimetype": "text/x-python",
   "name": "python",
   "nbconvert_exporter": "python",
   "pygments_lexer": "ipython3",
   "version": "3.7.10"
  }
 },
 "nbformat": 4,
 "nbformat_minor": 5
}
