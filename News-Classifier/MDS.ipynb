{
 "cells": [
  {
   "cell_type": "code",
   "execution_count": 1,
   "metadata": {},
   "outputs": [],
   "source": [
    "from model_utils import *"
   ]
  },
  {
   "cell_type": "code",
   "execution_count": 2,
   "metadata": {},
   "outputs": [],
   "source": [
    "MODEL_NAME = 'skimai/spanberta-base-cased'\n",
    "FILE = 'data/elmoundo_Valid.json'\n",
    "MAX_SEQ_LENGTH = 128\n",
    "BATCH_SIZE = 1\n",
    "CATE_LIMIT = 5\n",
    "CATE_USE = 7\n",
    "TASK = 'Soft-presentation'"
   ]
  },
  {
   "cell_type": "code",
   "execution_count": 3,
   "metadata": {},
   "outputs": [],
   "source": [
    "import datetime\n",
    "TODAY = datetime.date.today().strftime(\"%m%d\")\n",
    "RESULT_DIR = 'results/{}-results-{}'.format(TASK,TODAY)\n",
    "SUB_DIR = 'Soft-Presentation'\n",
    "if not os.path.exists(RESULT_DIR):\n",
    "    os.makedirs(RESULT_DIR)\n",
    "if not os.path.exists(\"{}{}\".format(RESULT_DIR,SUB_DIR)):\n",
    "    os.makedirs(\"{}{}\".format(RESULT_DIR,SUB_DIR))\n",
    "OUTPUT_PATH = RESULT_DIR + SUB_DIR"
   ]
  },
  {
   "cell_type": "code",
   "execution_count": 5,
   "metadata": {},
   "outputs": [
    {
     "name": "stdout",
     "output_type": "stream",
     "text": [
      "Data loaded:  35 35\n"
     ]
    },
    {
     "name": "stderr",
     "output_type": "stream",
     "text": [
      "100%|██████████| 35/35 [00:00<00:00, 2779.95it/s]"
     ]
    },
    {
     "name": "stdout",
     "output_type": "stream",
     "text": [
      "Tokenizer loaded...\n",
      "encoding time cost : 5.170197486877441\n"
     ]
    },
    {
     "name": "stderr",
     "output_type": "stream",
     "text": [
      "\n"
     ]
    }
   ],
   "source": [
    "# load data\n",
    "labels,contents,lset,ldic = load_test_data(FILE,CATE_LIMIT,percentage=1)\n",
    "\n",
    "# encode 1 87s\n",
    "start = time.time()\n",
    "encodings_list = pre_encode_list(MODEL_NAME,contents,MAX_SEQ_LENGTH)\n",
    "print('encoding time cost :',time.time()-start)\n",
    "\n",
    "# load dataset\n",
    "val_dataset = NewsCategoryDataset(labels, encodings_list, contents, ldic,balance=[1,0,0])\n",
    "\n",
    "\n",
    "# dataloader\n",
    "val_loader = DataLoader(dataset=val_dataset,\n",
    "                        batch_size=BATCH_SIZE,\n",
    "                        shuffle=False)\n"
   ]
  },
  {
   "cell_type": "code",
   "execution_count": 6,
   "metadata": {},
   "outputs": [],
   "source": [
    "MODEL_NAME = 'skimai/spanberta-base-cased'\n",
    "pmodel = 'results/NewsCate-finetune-1121/3e-05-128/1121-epoch-3.pth'\n",
    "model1 = 'results/elmundo_on_trained-1202/3e-05-128/1202-epoch-4.pth'\n",
    "model2 = 'results/elmundo_raw_model-results-1202/3e-05-128/1202-epoch-4.pth'\n",
    "MODELS = [MODEL_NAME,pmodel,model1,model2]\n",
    "MODELNAMES = ['Raw','NewsCate',\"Further\",'Elmundo']\n",
    "CATES = [26,26,7,7]"
   ]
  },
  {
   "cell_type": "code",
   "execution_count": 8,
   "metadata": {},
   "outputs": [
    {
     "data": {
      "application/vnd.jupyter.widget-view+json": {
       "model_id": "7f46e21ea81945e1b2c5a106701b056d",
       "version_major": 2,
       "version_minor": 0
      },
      "text/plain": [
       "  0%|          | 0/35 [00:00<?, ?it/s]"
      ]
     },
     "metadata": {},
     "output_type": "display_data"
    },
    {
     "data": {
      "application/vnd.jupyter.widget-view+json": {
       "model_id": "499e43ea8d1246e8a0e991276df7880b",
       "version_major": 2,
       "version_minor": 0
      },
      "text/plain": [
       "  0%|          | 0/35 [00:00<?, ?it/s]"
      ]
     },
     "metadata": {},
     "output_type": "display_data"
    },
    {
     "data": {
      "application/vnd.jupyter.widget-view+json": {
       "model_id": "db823e73d53342d1981da3ba2f3263f4",
       "version_major": 2,
       "version_minor": 0
      },
      "text/plain": [
       "  0%|          | 0/35 [00:00<?, ?it/s]"
      ]
     },
     "metadata": {},
     "output_type": "display_data"
    },
    {
     "data": {
      "application/vnd.jupyter.widget-view+json": {
       "model_id": "037ac25638c7467bb5f16a16516b4fa7",
       "version_major": 2,
       "version_minor": 0
      },
      "text/plain": [
       "  0%|          | 0/35 [00:00<?, ?it/s]"
      ]
     },
     "metadata": {},
     "output_type": "display_data"
    }
   ],
   "source": [
    "bert_results = []\n",
    "cls_results = []\n",
    "tars = []\n",
    "allowed_cates = [i for i in range(CATE_USE)]\n",
    "for idx,(m, ca) in enumerate(zip(MODELS,CATES)):\n",
    "    model = RobertaForSequenceClassification(MODEL_NAME,ca)\n",
    "    if m != MODEL_NAME:\n",
    "        model.load_dict(m,ca,True)\n",
    "    b_result = []\n",
    "    c_result = []\n",
    "    lab = []\n",
    "    if torch.cuda.is_available():\n",
    "        model = nn.DataParallel(model)\n",
    "        model.cuda()\n",
    "    model.eval()\n",
    "    with torch.no_grad():\n",
    "        for _,data in enumerate(notetqdm(val_loader)):\n",
    "            features = data['input_ids'].cuda()\n",
    "            # print(features.shape)\n",
    "            att_mask = data['attention_mask'].cuda()\n",
    "            target = data['targets']\n",
    "            if target in allowed_cates:\n",
    "                # print(att_mask.shape)\n",
    "                bert_out = model.module.bert(features,att_mask)\n",
    "                # print(type(target))\n",
    "                blist = bert_out[0].tolist()\n",
    "                clist = bert_out[0][:, 0].tolist()\n",
    "                tar = target.tolist()[0]\n",
    "                # print(type(tar))\n",
    "                b_result.append(blist)\n",
    "                c_result.append(clist)\n",
    "                lab.append(tar)\n",
    "           \n",
    "    bert_results.append(b_result)\n",
    "    cls_results.append(c_result)\n",
    "    tars.append(lab)\n",
    "\n",
    "bert_results = np.array(bert_results)\n",
    "cls_results = np.array(cls_results)\n",
    "tars = np.array(tars)"
   ]
  },
  {
   "cell_type": "code",
   "execution_count": 9,
   "metadata": {},
   "outputs": [
    {
     "data": {
      "text/plain": [
       "((4, 35, 1, 128, 768), (4, 35, 1, 768), (4, 35))"
      ]
     },
     "execution_count": 9,
     "metadata": {},
     "output_type": "execute_result"
    }
   ],
   "source": [
    "bert_results.shape, cls_results.shape, tars.shape"
   ]
  },
  {
   "cell_type": "code",
   "execution_count": 10,
   "metadata": {},
   "outputs": [
    {
     "data": {
      "text/plain": [
       "array([[3, 6, 4, 4, 5, 2, 1, 6, 6, 1, 5, 2, 2, 0, 0, 0, 3, 4, 1, 5, 2, 6,\n",
       "        1, 3, 1, 6, 4, 3, 0, 3, 2, 5, 5, 4, 0],\n",
       "       [3, 6, 4, 4, 5, 2, 1, 6, 6, 1, 5, 2, 2, 0, 0, 0, 3, 4, 1, 5, 2, 6,\n",
       "        1, 3, 1, 6, 4, 3, 0, 3, 2, 5, 5, 4, 0],\n",
       "       [3, 6, 4, 4, 5, 2, 1, 6, 6, 1, 5, 2, 2, 0, 0, 0, 3, 4, 1, 5, 2, 6,\n",
       "        1, 3, 1, 6, 4, 3, 0, 3, 2, 5, 5, 4, 0],\n",
       "       [3, 6, 4, 4, 5, 2, 1, 6, 6, 1, 5, 2, 2, 0, 0, 0, 3, 4, 1, 5, 2, 6,\n",
       "        1, 3, 1, 6, 4, 3, 0, 3, 2, 5, 5, 4, 0]])"
      ]
     },
     "execution_count": 10,
     "metadata": {},
     "output_type": "execute_result"
    }
   ],
   "source": [
    "tars"
   ]
  },
  {
   "cell_type": "markdown",
   "metadata": {},
   "source": [
    "## 2D"
   ]
  },
  {
   "cell_type": "code",
   "execution_count": 11,
   "metadata": {},
   "outputs": [],
   "source": [
    "from matplotlib.colors import rgb2hex\n",
    "import matplotlib.pyplot as plt\n",
    "import numpy as np\n",
    "from sklearn.manifold import MDS\n",
    "from scipy.spatial.distance import pdist"
   ]
  },
  {
   "cell_type": "code",
   "execution_count": 12,
   "metadata": {},
   "outputs": [],
   "source": [
    "mds2 = MDS(n_components=2)\n",
    "trans_2d = []\n",
    "for x in cls_results:\n",
    "    x = np.squeeze(x)\n",
    "    x_transformed = mds2.fit_transform(x)\n",
    "    trans_2d.append(x)"
   ]
  },
  {
   "cell_type": "code",
   "execution_count": 13,
   "metadata": {},
   "outputs": [
    {
     "data": {
      "image/png": "[encoded data removed]",
      "text/plain": [
       "<Figure size 432x288 with 1 Axes>"
      ]
     },
     "metadata": {
      "needs_background": "light"
     },
     "output_type": "display_data"
    },
    {
     "data": {
      "text/plain": [
       "<Figure size 800x1600 with 0 Axes>"
      ]
     },
     "metadata": {},
     "output_type": "display_data"
    }
   ],
   "source": [
    "colors = ['b','g','r','m']\n",
    "#colors = tuple([(np.random.random(),np.random.random(),np.random.random()) for i in range(CATE_USE)])\n",
    "fig = plt.figure()\n",
    "plt.figure(figsize=(2,4), dpi=400)\n",
    "ax = fig.add_subplot(1,1,1)\n",
    "for idx,pots in enumerate(trans_2d):\n",
    "    xs, ys, cs, ts = pots[:,0], pots[:,1], colors[idx], MODELNAMES[idx]\n",
    "    # print(len(xs),len(ys))\n",
    "    ax.scatter(xs,ys,c=cs,label=ts)\n",
    "    ax.legend()\n",
    "fig.savefig('2d_cluster')"
   ]
  },
  {
   "cell_type": "markdown",
   "metadata": {},
   "source": [
    "## 3d"
   ]
  },
  {
   "cell_type": "code",
   "execution_count": 14,
   "metadata": {},
   "outputs": [],
   "source": [
    "'''\n",
    "mds3 = MDS(n_components=3)\n",
    "x = np.squeeze(cls_results[0])\n",
    "x.shape\n",
    "x_transformed = mds3.fit_transform(x)\n",
    "x_transformed.shape\n",
    "'''\n",
    "mds3 = MDS(n_components=3)\n",
    "trans_3d = []\n",
    "for x in cls_results:\n",
    "    x = np.squeeze(x)\n",
    "    x_transformed = mds3.fit_transform(x)\n",
    "    trans_3d.append(x)"
   ]
  },
  {
   "cell_type": "code",
   "execution_count": 15,
   "metadata": {},
   "outputs": [
    {
     "data": {
      "image/png": "[encoded data removed]",
      "text/plain": [
       "<Figure size 432x288 with 1 Axes>"
      ]
     },
     "metadata": {
      "needs_background": "light"
     },
     "output_type": "display_data"
    },
    {
     "data": {
      "text/plain": [
       "<Figure size 800x1600 with 0 Axes>"
      ]
     },
     "metadata": {},
     "output_type": "display_data"
    }
   ],
   "source": [
    "colors = ['b','g','r','m']\n",
    "fig = plt.figure()\n",
    "#colors = tuple([(np.random.random(),np.random.random(),np.random.random()) for i in range(CATE_USE)])\n",
    "plt.figure(figsize=(2,4), dpi=400)\n",
    "ax = fig.add_subplot(projection='3d')\n",
    "fig.subplots_adjust(top=5, bottom=-5)\n",
    "for idx,pots in enumerate(trans_2d):\n",
    "    xs, ys, zs, cs, ts = pots[:,0], pots[:,1], pots[:,2], colors[idx], MODELNAMES[idx]\n",
    "    # print(len(xs),len(ys))\n",
    "    ax.scatter(xs, ys, zs, c=cs,label=ts)\n",
    "    ax.legend()\n",
    "fig.savefig('2d_cluster')"
   ]
  },
  {
   "cell_type": "code",
   "execution_count": 16,
   "metadata": {},
   "outputs": [],
   "source": [
    "def ClusterDist(set1,set2,dist_fun):\n",
    "    len1, len2 = len(set1), len(set2)\n",
    "    dists = []\n",
    "    for i in range(len1):\n",
    "        for j in range(len2):\n",
    "            dist = dist_fun(set1[i],set2[j])\n",
    "            dists.append(dist)\n",
    "    return dists"
   ]
  },
  {
   "cell_type": "code",
   "execution_count": 17,
   "metadata": {
    "scrolled": true
   },
   "outputs": [],
   "source": [
    "cls_lists = []\n",
    "for i in range(len(cls_results)):\n",
    "    cls_lists.append([ np.squeeze(item) for item in cls_results[i]])"
   ]
  },
  {
   "cell_type": "code",
   "execution_count": 18,
   "metadata": {},
   "outputs": [],
   "source": [
    "euclidean_dist = lambda a,b : np.sqrt(np.square(a-b).sum())"
   ]
  },
  {
   "cell_type": "code",
   "execution_count": 19,
   "metadata": {},
   "outputs": [],
   "source": [
    "rds = []\n",
    "for i in range(1, len(cls_lists)):\n",
    "    rds.append(ClusterDist(cls_lists[0],cls_lists[i],euclidean_dist))"
   ]
  },
  {
   "cell_type": "code",
   "execution_count": 20,
   "metadata": {},
   "outputs": [
    {
     "data": {
      "text/plain": [
       "[32.877157788484354, 33.815127576773804, 32.375542036831995]"
      ]
     },
     "execution_count": 20,
     "metadata": {},
     "output_type": "execute_result"
    }
   ],
   "source": [
    "CLA = [ sum(d)/len(d) for d in rds]\n",
    "CLA"
   ]
  },
  {
   "cell_type": "code",
   "execution_count": 21,
   "metadata": {},
   "outputs": [],
   "source": [
    "def Cosine_similarity(set1,set2):\n",
    "    len1 = len(set1)\n",
    "    similarity = []\n",
    "    sim_func = lambda a,b : np.dot(a,b)/(np.linalg.norm(a)*np.linalg.norm(b))\n",
    "    for i in range(len1):\n",
    "        sim = sim_func(set1[i],set2[i])\n",
    "        similarity.append(sim)\n",
    "    return similarity"
   ]
  },
  {
   "cell_type": "code",
   "execution_count": 23,
   "metadata": {},
   "outputs": [],
   "source": [
    "css = []\n",
    "for i in range(1, len(cls_lists)):\n",
    "    sim = Cosine_similarity(cls_lists[0],cls_lists[i])\n",
    "    css.append(sim)"
   ]
  },
  {
   "cell_type": "code",
   "execution_count": 24,
   "metadata": {},
   "outputs": [
    {
     "data": {
      "text/plain": [
       "[0.15999473276549067, 0.11291049369267352, 0.24823755106727216]"
      ]
     },
     "execution_count": 24,
     "metadata": {},
     "output_type": "execute_result"
    }
   ],
   "source": [
    "cosines = [sum(s)/len(s) for s in css]\n",
    "cosines"
   ]
  },
  {
   "cell_type": "code",
   "execution_count": null,
   "metadata": {},
   "outputs": [],
   "source": [
    "MODELNAMES"
   ]
  },
  {
   "cell_type": "code",
   "execution_count": null,
   "metadata": {},
   "outputs": [],
   "source": []
  }
 ],
 "metadata": {
  "kernelspec": {
   "display_name": "Python 3",
   "language": "python",
   "name": "python3"
  },
  "language_info": {
   "codemirror_mode": {
    "name": "ipython",
    "version": 3
   },
   "file_extension": ".py",
   "mimetype": "text/x-python",
   "name": "python",
   "nbconvert_exporter": "python",
   "pygments_lexer": "ipython3",
   "version": "3.7.10"
  }
 },
 "nbformat": 4,
 "nbformat_minor": 4
}
