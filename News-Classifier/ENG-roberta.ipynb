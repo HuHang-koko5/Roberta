{
 "cells": [
  {
   "cell_type": "code",
   "execution_count": 2,
   "id": "3fc971ab",
   "metadata": {},
   "outputs": [],
   "source": [
    "import pandas as pd"
   ]
  },
  {
   "cell_type": "code",
   "execution_count": 3,
   "id": "556d4bdc",
   "metadata": {},
   "outputs": [],
   "source": [
    "df =pd.read_json('data/augmented_labeled_news.json')"
   ]
  },
  {
   "cell_type": "code",
   "execution_count": 10,
   "id": "ba28c4ca",
   "metadata": {},
   "outputs": [
    {
     "data": {
      "text/html": [
       "<div>\n",
       "<style scoped>\n",
       "    .dataframe tbody tr th:only-of-type {\n",
       "        vertical-align: middle;\n",
       "    }\n",
       "\n",
       "    .dataframe tbody tr th {\n",
       "        vertical-align: top;\n",
       "    }\n",
       "\n",
       "    .dataframe thead th {\n",
       "        text-align: right;\n",
       "    }\n",
       "</style>\n",
       "<table border=\"1\" class=\"dataframe\">\n",
       "  <thead>\n",
       "    <tr style=\"text-align: right;\">\n",
       "      <th></th>\n",
       "      <th>category</th>\n",
       "      <th>headlines</th>\n",
       "      <th>description</th>\n",
       "    </tr>\n",
       "  </thead>\n",
       "  <tbody>\n",
       "    <tr>\n",
       "      <th>count</th>\n",
       "      <td>851194</td>\n",
       "      <td>851194</td>\n",
       "      <td>851194</td>\n",
       "    </tr>\n",
       "    <tr>\n",
       "      <th>unique</th>\n",
       "      <td>26</td>\n",
       "      <td>308543</td>\n",
       "      <td>708955</td>\n",
       "    </tr>\n",
       "    <tr>\n",
       "      <th>top</th>\n",
       "      <td>POLITICS</td>\n",
       "      <td>Sunday Roundup</td>\n",
       "      <td></td>\n",
       "    </tr>\n",
       "    <tr>\n",
       "      <th>freq</th>\n",
       "      <td>143750</td>\n",
       "      <td>449</td>\n",
       "      <td>2556</td>\n",
       "    </tr>\n",
       "  </tbody>\n",
       "</table>\n",
       "</div>"
      ],
      "text/plain": [
       "        category       headlines description\n",
       "count     851194          851194      851194\n",
       "unique        26          308543      708955\n",
       "top     POLITICS  Sunday Roundup            \n",
       "freq      143750             449        2556"
      ]
     },
     "execution_count": 10,
     "metadata": {},
     "output_type": "execute_result"
    }
   ],
   "source": [
    "df.describe()"
   ]
  },
  {
   "cell_type": "code",
   "execution_count": 11,
   "id": "3d0abd02",
   "metadata": {},
   "outputs": [],
   "source": [
    "df.columns = ['category','headline','description']"
   ]
  },
  {
   "cell_type": "code",
   "execution_count": 12,
   "id": "62b3c4a2",
   "metadata": {},
   "outputs": [],
   "source": [
    "df.to_json('data/augmented_en_data.json')"
   ]
  },
  {
   "cell_type": "code",
   "execution_count": null,
   "id": "5c9ae539",
   "metadata": {},
   "outputs": [],
   "source": []
  }
 ],
 "metadata": {
  "kernelspec": {
   "display_name": "Python 3",
   "language": "python",
   "name": "python3"
  },
  "language_info": {
   "codemirror_mode": {
    "name": "ipython",
    "version": 3
   },
   "file_extension": ".py",
   "mimetype": "text/x-python",
   "name": "python",
   "nbconvert_exporter": "python",
   "pygments_lexer": "ipython3",
   "version": "3.7.10"
  }
 },
 "nbformat": 4,
 "nbformat_minor": 5
}
