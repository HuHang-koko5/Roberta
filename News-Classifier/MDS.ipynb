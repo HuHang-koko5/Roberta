{
 "cells": [
  {
   "cell_type": "code",
   "execution_count": 1,
   "metadata": {},
   "outputs": [],
   "source": [
    "from model_utils import *"
   ]
  },
  {
   "cell_type": "code",
   "execution_count": 5,
   "metadata": {},
   "outputs": [],
   "source": [
    "MODEL_NAME = 'skimai/spanberta-base-cased'\n",
    "FILE = 'data/augmented_elmundo_1124.json'\n",
    "MAX_SEQ_LENGTH = 128\n",
    "BATCH_SIZE = 1\n",
    "CATE_LIMIT = 10\n",
    "CATE_USE = 3\n",
    "TASK = 'Soft-presentation'"
   ]
  },
  {
   "cell_type": "code",
   "execution_count": 6,
   "metadata": {},
   "outputs": [],
   "source": [
    "import datetime\n",
    "TODAY = datetime.date.today().strftime(\"%m%d\")\n",
    "RESULT_DIR = 'results/{}-results-{}'.format(TASK,TODAY)\n",
    "SUB_DIR = 'Soft-Presentation'\n",
    "if not os.path.exists(RESULT_DIR):\n",
    "    os.makedirs(RESULT_DIR)\n",
    "if not os.path.exists(\"{}{}\".format(RESULT_DIR,SUB_DIR)):\n",
    "    os.makedirs(\"{}{}\".format(RESULT_DIR,SUB_DIR))\n",
    "OUTPUT_PATH = RESULT_DIR + SUB_DIR"
   ]
  },
  {
   "cell_type": "code",
   "execution_count": 7,
   "metadata": {},
   "outputs": [
    {
     "name": "stdout",
     "output_type": "stream",
     "text": [
      "Data loaded:  70 70\n"
     ]
    },
    {
     "name": "stderr",
     "output_type": "stream",
     "text": [
      "100%|██████████| 70/70 [00:00<00:00, 3019.38it/s]"
     ]
    },
    {
     "name": "stdout",
     "output_type": "stream",
     "text": [
      "Tokenizer loaded...\n",
      "encoding time cost : 5.00314998626709\n",
      "data loaded \n",
      "train:49\n",
      "valid:11\n",
      "test:10\n"
     ]
    },
    {
     "name": "stderr",
     "output_type": "stream",
     "text": [
      "\n"
     ]
    }
   ],
   "source": [
    "# load data\n",
    "labels,contents,lset,ldic = load_test_data(FILE,CATE_LIMIT,percentage=1)\n",
    "\n",
    "# encode 1 87s\n",
    "start = time.time()\n",
    "encodings_list = pre_encode_list(MODEL_NAME,contents,MAX_SEQ_LENGTH)\n",
    "print('encoding time cost :',time.time()-start)\n",
    "\n",
    "# load dataset\n",
    "train_dataset = NewsCategoryDataset(labels, encodings_list, contents, ldic)\n",
    "valid_dataset = NewsCategoryDataset(labels, encodings_list, contents, ldic, 'val')\n",
    "test_dataset = NewsCategoryDataset(labels, encodings_list, contents, ldic, 'test')\n",
    "print('data loaded \\ntrain:{}\\nvalid:{}\\ntest:{}'.format(len(train_dataset),\n",
    "                                                          len(valid_dataset),\n",
    "                                                          len(test_dataset)))\n",
    "\n",
    "# dataloader\n",
    "train_val_loaders = {\n",
    "    \"train\": DataLoader(dataset=train_dataset,\n",
    "                        batch_size=BATCH_SIZE,\n",
    "                        shuffle=True),\n",
    "    \"valid\": DataLoader(dataset=valid_dataset,\n",
    "                        batch_size=BATCH_SIZE,\n",
    "                        shuffle=False),\n",
    "    \"test\": DataLoader(dataset=test_dataset,\n",
    "                       batch_size=BATCH_SIZE,\n",
    "                       shuffle=False)\n",
    "}"
   ]
  },
  {
   "cell_type": "code",
   "execution_count": 28,
   "metadata": {},
   "outputs": [],
   "source": [
    "MODEL_NAME = 'skimai/spanberta-base-cased'\n",
    "pmodel = 'results/NewsCate-finetune-1121/3e-05-128/1121-epoch-3.pth'\n",
    "model1 = 'results/elmundo_on_trained-1202/3e-05-128/1202-epoch-4.pth'\n",
    "model2 = 'results/elmundo_raw_model-results-1202/3e-05-128/1202-epoch-4.pth'\n",
    "MODELS = [MODEL_NAME,pmodel,model1,model2]\n",
    "MODELNAMES = ['Raw','NewsCate',\"Further\",'Elmundo']\n",
    "CATES = [26,26,7,7]"
   ]
  },
  {
   "cell_type": "code",
   "execution_count": 15,
   "metadata": {},
   "outputs": [
    {
     "data": {
      "application/vnd.jupyter.widget-view+json": {
       "model_id": "15820cc2a3164877ab6f69b21c93aa9a",
       "version_major": 2,
       "version_minor": 0
      },
      "text/plain": [
       "  0%|          | 0/49 [00:00<?, ?it/s]"
      ]
     },
     "metadata": {},
     "output_type": "display_data"
    },
    {
     "data": {
      "application/vnd.jupyter.widget-view+json": {
       "model_id": "d23f71acc124474c86a6e6c913296159",
       "version_major": 2,
       "version_minor": 0
      },
      "text/plain": [
       "  0%|          | 0/49 [00:00<?, ?it/s]"
      ]
     },
     "metadata": {},
     "output_type": "display_data"
    },
    {
     "data": {
      "application/vnd.jupyter.widget-view+json": {
       "model_id": "d7acfb9184624857b55088b9bf9bf139",
       "version_major": 2,
       "version_minor": 0
      },
      "text/plain": [
       "  0%|          | 0/49 [00:00<?, ?it/s]"
      ]
     },
     "metadata": {},
     "output_type": "display_data"
    },
    {
     "data": {
      "application/vnd.jupyter.widget-view+json": {
       "model_id": "3712542407b84c35aec7f28742331950",
       "version_major": 2,
       "version_minor": 0
      },
      "text/plain": [
       "  0%|          | 0/49 [00:00<?, ?it/s]"
      ]
     },
     "metadata": {},
     "output_type": "display_data"
    }
   ],
   "source": [
    "bert_results = []\n",
    "cls_results = []\n",
    "tars = []\n",
    "allowed_cates = [i for i in range(1)]\n",
    "for idx,(m, ca) in enumerate(zip(MODELS,CATES)):\n",
    "    model = RobertaForSequenceClassification(MODEL_NAME,ca)\n",
    "    if m != MODEL_NAME:\n",
    "        model.load_dict(m,ca,True)\n",
    "    b_result = []\n",
    "    c_result = []\n",
    "    lab = []\n",
    "    if torch.cuda.is_available():\n",
    "        model = nn.DataParallel(model)\n",
    "        model.cuda()\n",
    "    model.eval()\n",
    "    with torch.no_grad():\n",
    "        for _,data in enumerate(notetqdm(train_val_loaders['train'])):\n",
    "            features = data['input_ids'].cuda()\n",
    "            # print(features.shape)\n",
    "            att_mask = data['attention_mask'].cuda()\n",
    "            target = data['targets']\n",
    "            if target in allowed_cates:\n",
    "                # print(att_mask.shape)\n",
    "                bert_out = model.module.bert(features,att_mask)\n",
    "                # print(type(target))\n",
    "                blist = bert_out[0].tolist()\n",
    "                clist = bert_out[0][:, 0].tolist()\n",
    "                tar = target.tolist()[0]\n",
    "                # print(type(tar))\n",
    "                b_result.append(blist)\n",
    "                c_result.append(clist)\n",
    "                lab.append(tar)\n",
    "           \n",
    "    bert_results.append(b_result)\n",
    "    cls_results.append(c_result)\n",
    "    tars.append(lab)"
   ]
  },
  {
   "cell_type": "code",
   "execution_count": 17,
   "metadata": {},
   "outputs": [
    {
     "data": {
      "text/plain": [
       "(4, 4, 4)"
      ]
     },
     "execution_count": 17,
     "metadata": {},
     "output_type": "execute_result"
    }
   ],
   "source": [
    "len(bert_results), len(cls_results), len(tars)"
   ]
  },
  {
   "cell_type": "code",
   "execution_count": 16,
   "metadata": {},
   "outputs": [
    {
     "data": {
      "text/plain": [
       "(7, 7, 7)"
      ]
     },
     "execution_count": 16,
     "metadata": {},
     "output_type": "execute_result"
    }
   ],
   "source": [
    "len(bert_results[0]), len(cls_results[0]), len(tars[0])"
   ]
  },
  {
   "cell_type": "markdown",
   "metadata": {},
   "source": [
    "## 2D"
   ]
  },
  {
   "cell_type": "code",
   "execution_count": 18,
   "metadata": {},
   "outputs": [],
   "source": [
    "from matplotlib.colors import rgb2hex\n",
    "import matplotlib.pyplot as plt\n",
    "import numpy as np\n",
    "from sklearn.manifold import MDS"
   ]
  },
  {
   "cell_type": "code",
   "execution_count": 20,
   "metadata": {},
   "outputs": [],
   "source": [
    "mds2 = MDS(n_components=2)\n",
    "trans_2d = []\n",
    "for x in cls_results:\n",
    "    x = np.squeeze(x)\n",
    "    x_transformed = mds2.fit_transform(x)\n",
    "    trans_2d.append(x)"
   ]
  },
  {
   "cell_type": "code",
   "execution_count": 33,
   "metadata": {},
   "outputs": [
    {
     "data": {
      "image/png": "[encoded data removed]",
      "text/plain": [
       "<Figure size 432x288 with 1 Axes>"
      ]
     },
     "metadata": {
      "needs_background": "light"
     },
     "output_type": "display_data"
    },
    {
     "data": {
      "text/plain": [
       "<Figure size 800x1600 with 0 Axes>"
      ]
     },
     "metadata": {},
     "output_type": "display_data"
    }
   ],
   "source": [
    "colors = ['b','g','r','m']\n",
    "#colors = tuple([(np.random.random(),np.random.random(),np.random.random()) for i in range(CATE_USE)])\n",
    "fig = plt.figure()\n",
    "plt.figure(figsize=(2,4), dpi=400)\n",
    "ax = fig.add_subplot(1,1,1)\n",
    "for idx,pots in enumerate(trans_2d):\n",
    "    xs, ys, cs, ts = pots[:,0], pots[:,1], colors[idx], MODELNAMES[idx]\n",
    "    # print(len(xs),len(ys))\n",
    "    ax.scatter(xs,ys,c=cs,label=ts)\n",
    "    ax.legend()\n",
    "fig.savefig('2d_cluster')"
   ]
  },
  {
   "cell_type": "markdown",
   "metadata": {},
   "source": [
    "## 3d"
   ]
  },
  {
   "cell_type": "code",
   "execution_count": 34,
   "metadata": {},
   "outputs": [],
   "source": [
    "'''\n",
    "mds3 = MDS(n_components=3)\n",
    "x = np.squeeze(cls_results[0])\n",
    "x.shape\n",
    "x_transformed = mds3.fit_transform(x)\n",
    "x_transformed.shape\n",
    "'''\n",
    "mds3 = MDS(n_components=3)\n",
    "trans_3d = []\n",
    "for x in cls_results:\n",
    "    x = np.squeeze(x)\n",
    "    x_transformed = mds3.fit_transform(x)\n",
    "    trans_3d.append(x)"
   ]
  },
  {
   "cell_type": "code",
   "execution_count": 36,
   "metadata": {},
   "outputs": [
    {
     "data": {
      "image/png": "[encoded data removed]",
      "text/plain": [
       "<Figure size 432x288 with 1 Axes>"
      ]
     },
     "metadata": {
      "needs_background": "light"
     },
     "output_type": "display_data"
    },
    {
     "data": {
      "text/plain": [
       "<Figure size 800x1600 with 0 Axes>"
      ]
     },
     "metadata": {},
     "output_type": "display_data"
    }
   ],
   "source": [
    "colors = ['b','g','r','m']\n",
    "fig = plt.figure()\n",
    "#colors = tuple([(np.random.random(),np.random.random(),np.random.random()) for i in range(CATE_USE)])\n",
    "plt.figure(figsize=(2,4), dpi=400)\n",
    "ax = fig.add_subplot(projection='3d')\n",
    "fig.subplots_adjust(top=5, bottom=-5)\n",
    "for idx,pots in enumerate(trans_2d):\n",
    "    xs, ys, zs, cs, ts = pots[:,0], pots[:,1], pots[:,2], colors[idx], MODELNAMES[idx]\n",
    "    # print(len(xs),len(ys))\n",
    "    ax.scatter(xs, ys, zs, c=cs,label=ts)\n",
    "    ax.legend()\n",
    "fig.savefig('2d_cluster')"
   ]
  },
  {
   "cell_type": "code",
   "execution_count": 3,
   "metadata": {},
   "outputs": [],
   "source": [
    "a = torch.Tensor([1])"
   ]
  },
  {
   "cell_type": "code",
   "execution_count": 6,
   "metadata": {},
   "outputs": [
    {
     "name": "stdout",
     "output_type": "stream",
     "text": [
      "tensor([1.])\n"
     ]
    }
   ],
   "source": [
    "if a in [1,2]:\n",
    "    print(a)"
   ]
  },
  {
   "cell_type": "code",
   "execution_count": null,
   "metadata": {},
   "outputs": [],
   "source": [
    "type(a.tolist()[0])"
   ]
  },
  {
   "cell_type": "code",
   "execution_count": null,
   "metadata": {},
   "outputs": [],
   "source": [
    "fig = plt.figure()\n",
    "ax = fig.add_subplot(projection='3d')\n",
    "\n",
    "\n",
    "label_set = list(set(tars[0]))\n",
    "\n",
    "ax.scatter(xs,ys,zs,c=cs,label=ts)\n",
    "\n",
    "#legend = ax.legend(loc='best')\n",
    "fig.savefig('cluster')"
   ]
  },
  {
   "cell_type": "code",
   "execution_count": 3,
   "metadata": {},
   "outputs": [],
   "source": [
    "MLP = nn.Linear(10,2)"
   ]
  },
  {
   "cell_type": "code",
   "execution_count": 6,
   "metadata": {},
   "outputs": [
    {
     "data": {
      "text/plain": [
       "2"
      ]
     },
     "execution_count": 6,
     "metadata": {},
     "output_type": "execute_result"
    }
   ],
   "source": [
    "MLP.out_features"
   ]
  },
  {
   "cell_type": "code",
   "execution_count": null,
   "metadata": {},
   "outputs": [],
   "source": []
  }
 ],
 "metadata": {
  "kernelspec": {
   "display_name": "Python 3",
   "language": "python",
   "name": "python3"
  },
  "language_info": {
   "codemirror_mode": {
    "name": "ipython",
    "version": 3
   },
   "file_extension": ".py",
   "mimetype": "text/x-python",
   "name": "python",
   "nbconvert_exporter": "python",
   "pygments_lexer": "ipython3",
   "version": "3.7.10"
  }
 },
 "nbformat": 4,
 "nbformat_minor": 4
}
