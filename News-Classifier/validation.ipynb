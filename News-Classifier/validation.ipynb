{
 "cells": [
  {
   "cell_type": "code",
   "execution_count": 8,
   "id": "ac0d3f21",
   "metadata": {},
   "outputs": [],
   "source": [
    "from model_utils import *"
   ]
  },
  {
   "cell_type": "code",
   "execution_count": 11,
   "id": "650bbcc8",
   "metadata": {},
   "outputs": [],
   "source": [
    "FILE = \"./data/<filename>\"\n",
    "DATASET_NAME = 'elmundo'\n",
    "LOG_DIR = \"./news-classification\"\n",
    "MAX_CATE_SIZE = 3000\n",
    "MODEL_NAME = 'skimai/spanberta-base-cased'\n",
    "MAX_SEQ_LENGTH = 128\n",
    "BATCH_SIZE = 128"
   ]
  },
  {
   "cell_type": "code",
   "execution_count": 4,
   "id": "a478c1ae",
   "metadata": {},
   "outputs": [],
   "source": [
    "# classifier label set\n",
    "target_label = ['WORLD NEWS', 'ARTS & CULTURE', 'WEDDINGS', 'PARENTING',\n",
    "                 'BUSINESS & FINANCES', 'HOME & LIVING', 'EDUCATION',\n",
    "                 'WELLNESS', 'POLITICS', 'WOMEN', 'IMPACT', 'ENVIRONMENT',\n",
    "                 'SPORTS', 'FOOD & DRINK', 'GROUPS VOICES', 'MEDIA',\n",
    "                 'SCIENCE & TECH', 'CRIME', 'WEIRD NEWS', 'COMEDY',\n",
    "                 'RELIGION', 'MISCELLANEOUS', 'DIVORCE', 'ENTERTAINMENT',\n",
    "                 'STYLE & BEAUTY', 'TRAVEL']\n",
    "# source item label set\n",
    "source_label = ['economia',  # economic\n",
    "              'internacional',  # international\n",
    "              'deportes',  # sports\n",
    "              'cultura',  # culture\n",
    "              'television',  # television\n",
    "              'ciencia-y-salud',  # science and health\n",
    "              'tecnologia',  # technology\n",
    "               ]\n",
    "source_label_dic = {}\n",
    "for idx, label in enumerate(source_label):\n",
    "    source_label_dic[label] = idx"
   ]
  },
  {
   "cell_type": "markdown",
   "id": "3ca7a30e",
   "metadata": {},
   "source": [
    "## Load Data"
   ]
  },
  {
   "cell_type": "code",
   "execution_count": 2,
   "id": "7446b83c",
   "metadata": {},
   "outputs": [],
   "source": [
    "def load_test_data(path,cate_size,type='JSON',percentage=1):\n",
    "    if type == \"JSON\":\n",
    "        df = pd.read_json(path)\n",
    "    else:\n",
    "        df = pd.read_csv(path)\n",
    "    df.iloc[np.random.permutation(len(df))]\n",
    "    labels = df['category'].tolist()\n",
    "    titles = df['headline'].tolist()\n",
    "    stand_first = df['stand_first'].tolist()\n",
    "    contents = df['content'].tolist()\n",
    "    contents = [h + s + d for h, s, d in zip(heads, stand_first, descriptions)]\n",
    "    label_dic = {}\n",
    "    final_size = int(len(contents) * percentage)\n",
    "    if percentage != 1:\n",
    "        contents = contents[:final_size]\n",
    "        labels = labels[:final_size]\n",
    "\n",
    "    # itos                                        \n",
    "    label_set = ['WORLD NEWS', 'ARTS & CULTURE', 'WEDDINGS', 'PARENTING',\n",
    "                 'BUSINESS & FINANCES', 'HOME & LIVING', 'EDUCATION',\n",
    "                 'WELLNESS', 'POLITICS', 'WOMEN', 'IMPACT', 'ENVIRONMENT',\n",
    "                 'SPORTS', 'FOOD & DRINK', 'GROUPS VOICES', 'MEDIA',\n",
    "                 'SCIENCE & TECH', 'CRIME', 'WEIRD NEWS', 'COMEDY',\n",
    "                 'RELIGION', 'MISCELLANEOUS', 'DIVORCE', 'ENTERTAINMENT',\n",
    "                 'STYLE & BEAUTY', 'TRAVEL']\n",
    "    # stoi\n",
    "    for idx, label in enumerate(label_set):\n",
    "        label_dic[label] = idx\n",
    "    \"\"\"\n",
    "    label_count = {}\n",
    "    flitered_labels = []\n",
    "    flitered_contents = []\n",
    "    for cate, cont in zip(labels, contents):\n",
    "        if cate not in label_count.keys():\n",
    "            label_count[cate] = 1\n",
    "            flitered_labels.append(cate)\n",
    "            flitered_contents.append(cont)\n",
    "        elif label_count[cate] < cate_size:\n",
    "            label_count[cate] += 1\n",
    "            flitered_labels.append(cate)\n",
    "            flitered_contents.append(cont)\n",
    "    \n",
    "    \"\"\"\n",
    "    # shuffle\n",
    "    idx_list = list(range(0, len(labels), 1))\n",
    "    random.shuffle(idx_list)\n",
    "    shuffled_labels = []\n",
    "    shuffled_contents = []\n",
    "    for idp in idx_list:\n",
    "        shuffled_labels.append(labels[idp])\n",
    "        shuffled_contents.append(contents[idp])\n",
    "    print('Data loaded label:{} content:{} '.format(len(labels), len(contents)))\n",
    "    return shuffled_labels, shuffled_contents, label_set, label_dic"
   ]
  },
  {
   "cell_type": "code",
   "execution_count": 13,
   "id": "502b40c0",
   "metadata": {},
   "outputs": [],
   "source": [
    "class TestDataset(Dataset):\n",
    "    def __init__(self,labels,inputs,origins,ldic):\n",
    "        self.labels = label\n",
    "        self.origins = origins\n",
    "        self.inputs = inputs\n",
    "        \n",
    "    def __len__(self):\n",
    "        return len(self.inputs)\n",
    "    \n",
    "    def __getitem__(self,idx):\n",
    "        y = self.labels[idx]\n",
    "        y_encoded = torch.Tensor([self.ldic.get(y,-1)]).long(),squeeze(0)\n",
    "        res ={\n",
    "            'input_ids':self.inputs[idx]['input_ids'][0],\n",
    "            'attention_mask': self.input[idx]['attention_mask'][0],\n",
    "            'origin_contents':self.origins[idx],\n",
    "            'targets':y_encoded,\n",
    "        }\n",
    "        return res"
   ]
  },
  {
   "cell_type": "code",
   "execution_count": 14,
   "id": "c6fc4289",
   "metadata": {},
   "outputs": [
    {
     "ename": "SyntaxError",
     "evalue": "invalid syntax (<ipython-input-14-064efc52d61f>, line 14)",
     "output_type": "error",
     "traceback": [
      "\u001b[0;36m  File \u001b[0;32m\"<ipython-input-14-064efc52d61f>\"\u001b[0;36m, line \u001b[0;32m14\u001b[0m\n\u001b[0;31m    valid_loader = Dataloader(dataset=valid_dataset,\u001b[0m\n\u001b[0m               ^\u001b[0m\n\u001b[0;31mSyntaxError\u001b[0m\u001b[0;31m:\u001b[0m invalid syntax\n"
     ]
    }
   ],
   "source": [
    "# load test data and label info\n",
    "labels,contents,lset,ldic = load_test_data(FILE,MAX_CATE_SIZE,1)\n",
    "\n",
    "# encode\n",
    "start = time.time()\n",
    "encoding_list = pre_encode_list(MODEL_NAME,contents,MAX_SEQ_LENGTH)\n",
    "print(\"encoding time costs: {}\".format(time.time()-start))\n",
    "\n",
    "# load valid dataset \n",
    "valid_dataset = TestDataset(labels,encoding_list,contents)\n",
    "print(\"data loaded \\n {}\".format(len(valid_dataset))\n",
    "      \n",
    "# dataloader\n",
    "valid_loader = Dataloader(dataset=valid_dataset,\n",
    "                         batch_size=BATCH_SIZE,\n",
    "                         shuffle=false)"
   ]
  },
  {
   "cell_type": "code",
   "execution_count": 12,
   "id": "d3d70ca0",
   "metadata": {},
   "outputs": [],
   "source": [
    "if not os.path.exists('./{}-valid-results'.format(DATASET_NAME)):\n",
    "    os.makedirs('./{}-valid-results'.format(DATASET_NAME))\n",
    "if not os.path.exists('./{}-valid-results/{}'.format(DATASET_NAME, MAX_SEQ_LENGTH)):\n",
    "    os.makedirs('./{}-valid-results/{}'.format(DATASET_NAME, MAX_SEQ_LENGTH))"
   ]
  },
  {
   "cell_type": "code",
   "execution_count": null,
   "id": "6e86baca",
   "metadata": {},
   "outputs": [],
   "source": [
    "#load model\n",
    "model = RobertaForSequenceClassification(MODEL_NAME,len(lset))\n",
    "state_dict = torch.load('./results/5e-6/5-18-epoch-3.pth')\n",
    "model.load_state_dict(state_dict)"
   ]
  },
  {
   "cell_type": "code",
   "execution_count": null,
   "id": "5cfdd9d6",
   "metadata": {},
   "outputs": [],
   "source": [
    "iterator = valid_loader\n",
    "true_labels = []\n",
    "pred_labels = []\n",
    "\n",
    "model.eval()\n",
    "tkz = AutoTokenizer.from_pretrained(MODEL_NAME)\n",
    "with torch.no_gard():\n",
    "    for ba,data in enumerate(notetqdm(iterator)):\n",
    "        features = data['input_ids'].cuda()\n",
    "        att_mask = data['attention_mask'].to('cuda')\n",
    "        targets = data['targets']\n",
    "        tragets.numpy()\n",
    "        true_labels += targets.tolist()\n",
    "        outputs = model(features,att_mask)\n",
    "        outputs = outputs.cpu().detach().numpy()\n",
    "        outputs = np.argmax(outputs, axis=1)\n",
    "        # print screen \n",
    "        for i in range(len(data)):\n",
    "            print(data['origin_contents'][i])\n",
    "            print('pred: ',lset[outputs[i]])\n",
    "            print('true: ',lset[targets[i]])\n",
    "            print('--------------')\n",
    "        pred_labels += outputs.tolist()\n",
    "    print(len(true_labels))\n",
    "    print(true_labels[:15])\n",
    "    print(len(pred_outputs))\n",
    "    print(pred_outputs[:15])\n",
    "        "
   ]
  },
  {
   "cell_type": "code",
   "execution_count": 15,
   "id": "a2cf1e83",
   "metadata": {},
   "outputs": [],
   "source": [
    "#visualization\n",
    "from sklearn.metrics import confusion_matrix\n",
    "import matplotlib.pyplot as plt\n",
    "import seaborn as sns"
   ]
  },
  {
   "cell_type": "code",
   "execution_count": null,
   "id": "a12a3591",
   "metadata": {},
   "outputs": [],
   "source": []
  }
 ],
 "metadata": {
  "kernelspec": {
   "display_name": "Python 3",
   "language": "python",
   "name": "python3"
  },
  "language_info": {
   "codemirror_mode": {
    "name": "ipython",
    "version": 3
   },
   "file_extension": ".py",
   "mimetype": "text/x-python",
   "name": "python",
   "nbconvert_exporter": "python",
   "pygments_lexer": "ipython3",
   "version": "3.7.10"
  }
 },
 "nbformat": 4,
 "nbformat_minor": 5
}
