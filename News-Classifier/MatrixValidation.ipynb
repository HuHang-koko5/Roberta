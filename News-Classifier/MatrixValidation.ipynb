{
 "cells": [
  {
   "cell_type": "code",
   "execution_count": 36,
   "metadata": {},
   "outputs": [],
   "source": [
    "import numpy as np\n",
    "import pandas as pd\n",
    "import torch\n",
    "import torch.nn as nn\n",
    "import math\n",
    "import random"
   ]
  },
  {
   "cell_type": "code",
   "execution_count": 37,
   "metadata": {},
   "outputs": [],
   "source": [
    "y = torch.tensor([[random.uniform(-1,1) for _ in range(5)] for _ in range(5)])\n",
    "y_hat1 = torch.tensor([[random.uniform(-1,1) for _ in range(5)] for _ in range(5)])\n",
    "y_hat2 = torch.tensor([[random.uniform(-1,1) for _ in range(5)] for _ in range(5)])"
   ]
  },
  {
   "cell_type": "code",
   "execution_count": 38,
   "metadata": {},
   "outputs": [
    {
     "data": {
      "text/plain": [
       "tensor([[ 0.9502,  0.3249,  0.1046, -0.5830,  0.5382],\n",
       "        [-0.5722, -0.7821,  0.2562,  0.3731, -0.2288],\n",
       "        [-0.6229, -0.4932, -0.4104,  0.4971, -0.3963],\n",
       "        [ 0.2224,  0.0449,  0.9748, -0.0567,  0.0360],\n",
       "        [-0.4666, -0.2912,  0.7198,  0.8341,  0.5134]])"
      ]
     },
     "execution_count": 38,
     "metadata": {},
     "output_type": "execute_result"
    }
   ],
   "source": [
    "y"
   ]
  },
  {
   "cell_type": "code",
   "execution_count": 39,
   "metadata": {},
   "outputs": [
    {
     "data": {
      "text/plain": [
       "tensor([[-0.8606,  0.5009, -0.0752,  0.0440, -0.5374],\n",
       "        [ 0.8447,  0.1780, -0.3972,  0.5538,  0.2526],\n",
       "        [ 0.3745,  0.3091, -0.5996, -0.3342, -0.9431],\n",
       "        [ 0.0583, -0.2235, -0.2145, -0.1232,  0.5406],\n",
       "        [ 0.0488,  0.5234, -0.1976, -0.8691, -0.2349]])"
      ]
     },
     "execution_count": 39,
     "metadata": {},
     "output_type": "execute_result"
    }
   ],
   "source": [
    "y_hat1"
   ]
  },
  {
   "cell_type": "code",
   "execution_count": 40,
   "metadata": {},
   "outputs": [
    {
     "data": {
      "text/plain": [
       "tensor([[-0.6374,  0.6311,  0.5968, -0.8559,  0.2754],\n",
       "        [-0.5760,  0.5544, -0.1516,  0.6198, -0.6075],\n",
       "        [ 0.5725,  0.9771,  0.0730, -0.0070,  0.6653],\n",
       "        [-0.4892, -0.3212,  0.8014, -0.6269, -0.5846],\n",
       "        [-0.0944, -0.0203, -0.6810, -0.9409, -0.4528]])"
      ]
     },
     "execution_count": 40,
     "metadata": {},
     "output_type": "execute_result"
    }
   ],
   "source": [
    "y_hat2"
   ]
  },
  {
   "cell_type": "code",
   "execution_count": 41,
   "metadata": {},
   "outputs": [
    {
     "name": "stderr",
     "output_type": "stream",
     "text": [
      "F:\\Anaconda\\envs\\deepl\\lib\\site-packages\\torch\\nn\\functional.py:2398: UserWarning: reduction: 'mean' divides the total loss by both the batch size and the support size.'batchmean' divides only by the batch size, and aligns with the KL div math definition.'mean' will be changed to behave the same as 'batchmean' in the next major release.\n",
      "  warnings.warn(\"reduction: 'mean' divides the total loss by both the batch size and the support size.\"\n"
     ]
    },
    {
     "name": "stdout",
     "output_type": "stream",
     "text": [
      "loss 1 : -0.09833110868930817\n",
      "loss 2 : -0.0968465507030487\n"
     ]
    }
   ],
   "source": [
    "criterion = nn.KLDivLoss()\n",
    "loss1 = criterion(y,y_hat1)\n",
    "loss2 = criterion(y,y_hat2)\n",
    "print('loss 1 : {}'.format(loss1))\n",
    "print('loss 2 : {}'.format(loss2))"
   ]
  },
  {
   "cell_type": "code",
   "execution_count": 7,
   "metadata": {},
   "outputs": [],
   "source": [
    "class DiceLoss(nn.Module):\n",
    "    def __init__(self, weight=None, size_average=True):\n",
    "        super(DiceLoss, self).__init__()\n",
    "\n",
    "    def forward(self, inputs, targets, smooth=1):\n",
    "        \n",
    "        #comment out if your model contains a sigmoid or equivalent activation layer\n",
    "        # inputs = F.sigmoid(inputs)       \n",
    "        \n",
    "        #flatten label and prediction tensors\n",
    "        inputs = inputs.view(-1)\n",
    "        targets = targets.view(-1)\n",
    "        \n",
    "        intersection = (inputs * targets).sum()                            \n",
    "        dice = (2.*intersection + smooth)/(inputs.sum() + targets.sum() + smooth)  \n",
    "        \n",
    "        return 1 - dice"
   ]
  },
  {
   "cell_type": "code",
   "execution_count": 43,
   "metadata": {},
   "outputs": [
    {
     "name": "stdout",
     "output_type": "stream",
     "text": [
      "loss 1 : 5.215019226074219\n",
      "loss 2 : 2.4658799171447754\n"
     ]
    }
   ],
   "source": [
    "criterion = DiceLoss()\n",
    "loss1 = criterion(y,y_hat1)\n",
    "loss2 = criterion(y,y_hat2)\n",
    "print('loss 1 : {}'.format(loss1))\n",
    "print('loss 2 : {}'.format(loss2))"
   ]
  },
  {
   "cell_type": "code",
   "execution_count": 15,
   "metadata": {},
   "outputs": [],
   "source": [
    "anchor = torch.randn(100, 128, requires_grad=True)"
   ]
  },
  {
   "cell_type": "code",
   "execution_count": 16,
   "metadata": {
    "collapsed": true
   },
   "outputs": [
    {
     "data": {
      "text/plain": [
       "tensor([[-0.8677, -0.8928,  0.2799,  ..., -1.4881,  1.0726, -1.1159],\n",
       "        [ 2.6298,  2.0846,  1.6118,  ..., -0.5865,  0.2716, -0.3736],\n",
       "        [-0.7671,  0.4672, -0.3905,  ...,  0.6298, -0.5888, -0.0464],\n",
       "        ...,\n",
       "        [ 0.0485, -0.9030, -1.1079,  ...,  0.5373, -0.9645,  0.2447],\n",
       "        [-1.0917, -0.7731,  2.3227,  ...,  0.8215,  0.7577, -0.8133],\n",
       "        [ 0.4787, -0.2534,  1.3955,  ..., -0.4374, -1.5205,  0.6001]],\n",
       "       requires_grad=True)"
      ]
     },
     "execution_count": 16,
     "metadata": {},
     "output_type": "execute_result"
    }
   ],
   "source": [
    "anchor"
   ]
  },
  {
   "cell_type": "code",
   "execution_count": 3,
   "metadata": {},
   "outputs": [],
   "source": [
    "model = RobertaForSequenceClassification(MODEL_NAME,24)"
   ]
  },
  {
   "cell_type": "code",
   "execution_count": 14,
   "metadata": {
    "collapsed": true
   },
   "outputs": [
    {
     "data": {
      "text/plain": [
       "RobertaLayer(\n",
       "  (attention): RobertaAttention(\n",
       "    (self): RobertaSelfAttention(\n",
       "      (query): Linear(in_features=768, out_features=768, bias=True)\n",
       "      (key): Linear(in_features=768, out_features=768, bias=True)\n",
       "      (value): Linear(in_features=768, out_features=768, bias=True)\n",
       "      (dropout): Dropout(p=0.1, inplace=False)\n",
       "    )\n",
       "    (output): RobertaSelfOutput(\n",
       "      (dense): Linear(in_features=768, out_features=768, bias=True)\n",
       "      (LayerNorm): LayerNorm((768,), eps=1e-05, elementwise_affine=True)\n",
       "      (dropout): Dropout(p=0.1, inplace=False)\n",
       "    )\n",
       "  )\n",
       "  (intermediate): RobertaIntermediate(\n",
       "    (dense): Linear(in_features=768, out_features=3072, bias=True)\n",
       "  )\n",
       "  (output): RobertaOutput(\n",
       "    (dense): Linear(in_features=3072, out_features=768, bias=True)\n",
       "    (LayerNorm): LayerNorm((768,), eps=1e-05, elementwise_affine=True)\n",
       "    (dropout): Dropout(p=0.1, inplace=False)\n",
       "  )\n",
       ")"
      ]
     },
     "execution_count": 14,
     "metadata": {},
     "output_type": "execute_result"
    }
   ],
   "source": [
    "model.bert.encoder.layer[0]"
   ]
  },
  {
   "cell_type": "code",
   "execution_count": 26,
   "metadata": {},
   "outputs": [
    {
     "data": {
      "text/plain": [
       "Linear(in_features=768, out_features=768, bias=True)"
      ]
     },
     "execution_count": 26,
     "metadata": {},
     "output_type": "execute_result"
    }
   ],
   "source": [
    "model.bert.encoder.layer[0].attention.self.query"
   ]
  },
  {
   "cell_type": "code",
   "execution_count": 15,
   "metadata": {
    "collapsed": true
   },
   "outputs": [
    {
     "data": {
      "text/plain": [
       "[Parameter containing:\n",
       " tensor([[ 0.0013,  0.0397,  0.0352,  ...,  0.0087, -0.0279,  0.0172],\n",
       "         [ 0.0298,  0.0487, -0.0277,  ..., -0.0174,  0.0145,  0.0212],\n",
       "         [ 0.0028, -0.0338, -0.0392,  ...,  0.0202, -0.0394,  0.0125],\n",
       "         ...,\n",
       "         [-0.0269,  0.0373, -0.0087,  ..., -0.0152, -0.0086, -0.0107],\n",
       "         [-0.0309, -0.0189, -0.0469,  ...,  0.0455, -0.0070,  0.0312],\n",
       "         [ 0.0212,  0.0141,  0.0004,  ..., -0.0121, -0.0122,  0.0239]],\n",
       "        requires_grad=True),\n",
       " Parameter containing:\n",
       " tensor([-2.1704e-02,  4.6958e-03,  1.1399e-02, -1.5390e-02,  8.7822e-03,\n",
       "         -9.4673e-03,  3.5090e-03, -1.5868e-02,  2.0370e-02,  7.9437e-03,\n",
       "          5.1930e-04, -1.3330e-02,  7.3201e-03, -3.3357e-04,  4.9465e-03,\n",
       "         -1.1159e-03,  8.3455e-03, -1.4708e-02, -1.4520e-02, -7.2312e-03,\n",
       "          3.1131e-02, -1.7900e-03,  1.9223e-02, -6.0176e-03,  3.2437e-03,\n",
       "         -5.6747e-04,  5.4753e-03,  1.9259e-02, -1.6914e-03,  1.5346e-04,\n",
       "          2.0017e-02,  2.0931e-02,  1.8996e-02,  1.2319e-02, -7.9357e-03,\n",
       "         -1.0377e-02, -6.5964e-03,  9.5876e-04, -1.3218e-02, -2.7646e-03,\n",
       "         -6.5513e-03,  4.0136e-03, -1.8685e-02,  4.4694e-03, -3.6710e-03,\n",
       "          3.2679e-02, -1.5939e-02,  8.9166e-03,  1.0504e-02, -5.7850e-03,\n",
       "          3.1113e-03,  7.8085e-03,  8.3444e-04,  7.1441e-03,  4.4329e-03,\n",
       "         -1.2916e-02, -1.3430e-02,  4.7878e-03,  6.1500e-03,  5.9635e-03,\n",
       "         -8.1869e-04, -1.5464e-02,  2.6231e-02,  2.8744e-02, -1.0680e-02,\n",
       "         -2.1412e-02, -1.1366e-02, -1.4677e-02,  5.3485e-04,  7.5348e-03,\n",
       "          2.2001e-03,  1.6048e-02, -1.5944e-03, -1.2400e-02, -5.2393e-03,\n",
       "         -1.1461e-02, -8.1281e-03, -1.0978e-02,  2.7076e-03,  5.5634e-03,\n",
       "         -5.4081e-03,  4.7218e-03, -1.7729e-04,  4.3832e-03, -2.3204e-03,\n",
       "          1.2851e-02,  8.9393e-03, -1.1089e-02, -2.1869e-02,  3.4141e-03,\n",
       "          2.9220e-03,  5.7872e-05, -1.0557e-02,  7.1160e-03,  2.0528e-03,\n",
       "         -6.9181e-03, -1.0388e-02,  1.4104e-02, -6.2005e-03,  7.6226e-03,\n",
       "         -4.2066e-03,  1.3655e-02, -3.0665e-03, -1.2753e-02,  3.3020e-03,\n",
       "         -2.4146e-03, -2.3950e-03,  3.8736e-03,  3.7177e-03,  1.3932e-02,\n",
       "          1.4740e-03,  5.1143e-03, -3.4970e-03, -2.1218e-02,  2.2595e-02,\n",
       "         -2.9545e-02, -6.2233e-03,  6.4154e-03,  8.5841e-03,  7.0342e-03,\n",
       "          2.5378e-03, -6.4930e-03, -8.7867e-03, -1.2319e-02, -1.2258e-02,\n",
       "         -2.3771e-03,  7.0786e-03,  6.5257e-03, -9.9528e-04, -1.9974e-03,\n",
       "         -1.4264e-03,  3.3238e-03,  4.3982e-03,  4.3909e-03, -4.2017e-03,\n",
       "          5.5148e-03,  5.9731e-03,  9.7881e-03, -1.5116e-02, -1.2378e-02,\n",
       "          3.8670e-03, -1.4267e-02, -1.2377e-02, -2.2678e-03, -1.5831e-03,\n",
       "          7.2502e-03, -1.3355e-03,  3.0727e-03, -1.2111e-02,  8.5071e-03,\n",
       "          5.2123e-03,  4.4933e-03,  8.2500e-03,  8.4240e-03,  4.0763e-03,\n",
       "          1.9245e-03, -1.3350e-05, -1.4159e-02,  1.4670e-02,  9.5059e-03,\n",
       "         -3.8646e-03, -6.5452e-03, -6.5686e-03,  7.2167e-03, -6.4974e-03,\n",
       "         -9.5345e-03, -1.2958e-02,  3.8044e-03, -4.5713e-03, -1.3593e-03,\n",
       "          1.3097e-02,  5.5750e-03,  7.0447e-03, -7.3253e-03, -3.8804e-03,\n",
       "         -6.3558e-03,  3.4602e-03,  5.2077e-03,  2.0593e-02, -3.1781e-03,\n",
       "          5.1697e-03,  6.5463e-04,  1.6263e-03,  1.7977e-02,  2.5637e-03,\n",
       "         -6.4568e-03, -1.2245e-02,  1.6332e-03,  5.4310e-03,  1.2513e-02,\n",
       "          6.4797e-03,  7.0564e-03,  7.7781e-03, -1.6268e-02, -6.9870e-04,\n",
       "         -1.3077e-02, -2.3211e-03,  1.9244e-02, -8.8054e-03, -2.4115e-03,\n",
       "          1.9343e-02,  1.0088e-02, -3.4265e-02, -1.6852e-02,  1.0982e-02,\n",
       "          1.7664e-02,  4.5280e-02,  7.3517e-03, -1.3109e-02, -9.1992e-03,\n",
       "          7.8080e-03, -1.1370e-02, -1.2578e-02, -2.7331e-03, -7.1611e-03,\n",
       "         -3.0857e-02, -2.4271e-03,  2.0708e-02, -1.9499e-02, -1.4412e-02,\n",
       "          1.0055e-02,  6.3126e-03, -1.3887e-02,  6.8291e-03, -4.2713e-03,\n",
       "         -6.3399e-03, -9.0744e-03, -1.0854e-02,  3.6929e-03,  1.1839e-02,\n",
       "         -1.8084e-02,  6.8387e-04, -1.5293e-02, -1.6931e-02, -1.3466e-02,\n",
       "         -1.3727e-02, -3.0785e-03,  1.9252e-03, -2.1313e-02, -1.5389e-02,\n",
       "          2.5519e-02,  1.1905e-03,  2.8027e-02, -1.4116e-02,  3.6466e-02,\n",
       "          4.2045e-03, -1.5066e-02,  1.1949e-02,  5.2215e-03,  7.6781e-03,\n",
       "         -6.4152e-03,  2.7219e-02, -6.2731e-03, -1.0914e-03,  5.2947e-03,\n",
       "         -1.6294e-02, -2.0323e-02, -2.2661e-03,  1.7437e-03, -1.7307e-02,\n",
       "         -9.0138e-05,  2.6483e-02,  2.9135e-02,  2.1018e-02, -1.3239e-02,\n",
       "          9.0791e-03, -1.4097e-03,  1.8688e-02,  9.4157e-03,  2.1075e-02,\n",
       "          1.2962e-02, -4.6515e-02, -9.5627e-03,  2.8765e-03,  1.3457e-02,\n",
       "         -3.6464e-02, -1.8825e-02,  6.4866e-03, -3.1665e-02, -1.4936e-02,\n",
       "         -3.0738e-02,  4.0926e-03,  2.7383e-02,  4.0374e-03,  3.3079e-03,\n",
       "         -2.1978e-02, -5.6619e-03, -8.4390e-03, -1.7615e-02, -1.0679e-02,\n",
       "         -7.9283e-03,  1.2427e-02,  4.1547e-04, -9.8142e-03, -2.3197e-02,\n",
       "         -1.0743e-02, -1.0359e-02, -7.0717e-03,  2.2893e-02,  5.6939e-03,\n",
       "          2.5284e-02, -1.2853e-02,  1.0968e-03, -2.2948e-02,  1.2860e-02,\n",
       "          3.5702e-04,  1.0036e-02, -3.7317e-03,  1.5981e-02,  1.3932e-02,\n",
       "          2.8771e-03, -1.0367e-02, -7.5459e-04, -3.6977e-02,  1.0112e-02,\n",
       "          2.5556e-03, -3.6449e-03,  2.0001e-02, -4.9587e-03, -1.1655e-02,\n",
       "          9.9362e-03, -3.1455e-03, -5.4524e-03,  1.1869e-02, -1.1413e-03,\n",
       "          4.5307e-03,  2.1576e-02, -2.1040e-02,  8.1291e-03, -4.6273e-03,\n",
       "         -1.0848e-02,  5.0157e-03,  9.1791e-04,  2.3385e-02, -1.2091e-02,\n",
       "          1.5649e-02,  2.8795e-03,  1.4211e-02,  2.7050e-02,  9.7304e-03,\n",
       "          4.7985e-03, -1.9465e-03, -3.4462e-03,  7.6617e-03, -1.1369e-02,\n",
       "         -3.2691e-03, -1.0412e-02,  1.0523e-02,  7.7187e-03,  1.7073e-03,\n",
       "         -3.5746e-03, -2.3172e-02,  1.6698e-03,  5.9648e-03,  1.0978e-02,\n",
       "         -1.6843e-02,  1.1872e-02, -1.7561e-03,  8.5599e-03, -9.9213e-03,\n",
       "          1.4509e-02,  1.9936e-02, -1.7543e-02, -1.8749e-02, -1.7830e-02,\n",
       "         -9.2227e-04, -1.4943e-03, -9.3112e-03,  9.1755e-03, -6.4720e-03,\n",
       "         -4.5547e-03,  1.6898e-02, -9.2485e-03, -1.1454e-02, -2.3205e-04,\n",
       "          1.7026e-02, -7.9791e-03, -1.0008e-02,  1.9713e-03,  6.3681e-05,\n",
       "          1.6027e-02,  2.0213e-02, -6.9612e-03,  2.9180e-02,  8.9658e-03,\n",
       "         -1.4397e-02,  1.3896e-02, -1.0527e-02, -1.0745e-02,  1.7630e-02,\n",
       "         -3.3508e-03, -5.7486e-03,  2.7905e-03, -1.2260e-02,  7.7429e-03,\n",
       "          6.0110e-03,  2.4218e-02,  9.1520e-03,  1.4783e-02,  6.9926e-03,\n",
       "         -2.1026e-02, -9.8197e-03,  1.5252e-02, -5.3691e-03,  6.0871e-03,\n",
       "          1.8332e-02,  1.8533e-03, -8.8895e-03, -9.2332e-03,  8.8912e-03,\n",
       "         -1.7126e-02,  1.2622e-02, -1.4377e-03, -3.2183e-03, -5.5001e-03,\n",
       "          9.5102e-03,  8.1358e-03, -6.4817e-03,  9.5108e-03,  1.0328e-02,\n",
       "         -4.1851e-03,  7.7409e-03,  2.5591e-02, -1.3122e-02,  1.0043e-02,\n",
       "         -3.0063e-02,  1.0280e-03,  2.3124e-02,  2.4886e-03, -1.1993e-02,\n",
       "         -8.4012e-03, -1.0743e-03, -1.1928e-02,  4.8022e-03,  2.9683e-03,\n",
       "         -2.2462e-03,  7.3115e-03,  3.0452e-02, -1.9432e-02,  1.1148e-03,\n",
       "          2.8882e-02, -5.9867e-03, -4.7034e-03,  1.1495e-02, -2.1360e-02,\n",
       "          3.2514e-03,  1.6724e-02, -1.0680e-02,  6.2637e-03,  1.4737e-04,\n",
       "          1.0815e-02, -1.9566e-02, -2.0051e-03, -8.0923e-03, -4.5439e-03,\n",
       "          3.2282e-03,  6.0987e-03,  9.0512e-04, -2.0641e-02,  2.3312e-03,\n",
       "          1.8736e-02,  5.0833e-03,  2.1102e-02, -2.7791e-03,  9.2463e-03,\n",
       "         -2.3682e-03,  7.2530e-03, -4.9217e-03, -3.9925e-03, -7.4148e-03,\n",
       "         -7.3405e-03,  4.4040e-03, -1.9687e-02, -1.7492e-03, -6.5835e-03,\n",
       "          1.5271e-02,  7.4031e-03,  1.5185e-02,  5.5675e-04,  1.2612e-02,\n",
       "         -2.1819e-02, -3.5206e-02,  3.5200e-03,  2.9776e-03,  2.2237e-04,\n",
       "         -7.3767e-04,  1.5170e-03, -1.1775e-02,  2.1643e-02, -2.9200e-03,\n",
       "          4.0833e-03, -9.5811e-04,  1.1343e-02, -1.7204e-03, -1.0698e-02,\n",
       "         -3.6326e-03,  1.5995e-02,  2.8680e-03,  7.4593e-03,  6.0320e-03,\n",
       "         -5.8078e-03,  2.1742e-02, -6.4670e-04,  1.2317e-02,  3.1760e-02,\n",
       "          2.0127e-02, -2.4503e-02,  1.3996e-02, -1.8948e-02, -1.4654e-02,\n",
       "         -3.5328e-03,  2.6958e-02, -2.1846e-02,  2.0174e-02,  6.8842e-03,\n",
       "         -7.5876e-03,  3.8035e-02, -3.4526e-03,  6.8576e-03,  6.1655e-03,\n",
       "         -2.6156e-03,  1.4745e-02, -1.8526e-02, -2.1758e-02,  2.6549e-02,\n",
       "         -1.6126e-02,  2.8745e-02, -1.5494e-02,  5.1672e-03, -3.3962e-02,\n",
       "         -1.1154e-02, -8.2266e-03,  5.9121e-03, -2.9244e-02, -9.5894e-03,\n",
       "          1.8262e-02,  1.3367e-03,  1.8305e-02, -7.1176e-03,  1.9087e-02,\n",
       "         -2.5841e-02,  1.5855e-02,  8.1518e-03, -1.4160e-02, -1.8450e-02,\n",
       "         -1.5531e-02, -1.6445e-02,  8.7103e-03, -2.9489e-02, -1.9381e-02,\n",
       "         -5.7440e-03, -1.8298e-02, -4.8866e-03, -2.5353e-02, -2.2137e-03,\n",
       "         -1.3964e-02, -1.3144e-03,  2.0926e-02, -1.0926e-02, -4.4164e-02,\n",
       "          6.1520e-03,  4.2206e-04,  1.2005e-02,  1.7856e-02,  5.3104e-03,\n",
       "          2.9998e-02,  1.9450e-02, -8.3739e-03,  5.4183e-03,  3.8926e-02,\n",
       "          1.7782e-03, -2.2038e-02,  3.0241e-02,  5.9782e-03, -3.4829e-02,\n",
       "          3.4936e-02,  7.7932e-04,  6.3329e-03, -1.3938e-03, -1.3716e-02,\n",
       "          9.3509e-03, -2.6291e-03,  3.4078e-03,  1.5033e-03, -5.2910e-03,\n",
       "          1.1637e-02, -9.7548e-04,  4.0656e-03,  1.0706e-02, -1.1427e-02,\n",
       "         -7.9132e-03, -7.6883e-03, -9.8664e-03,  1.3805e-02, -1.0686e-03,\n",
       "         -2.2351e-02,  9.6778e-03, -8.2101e-03, -1.5541e-03, -3.4965e-03,\n",
       "          8.7211e-05, -5.8704e-03, -1.1858e-02,  8.7545e-04,  7.2480e-03,\n",
       "         -6.2542e-03, -1.5722e-02, -1.3502e-02, -2.1707e-03,  1.0388e-02,\n",
       "         -3.1523e-02, -1.4941e-04, -8.3965e-03,  6.6483e-03,  2.2021e-02,\n",
       "         -1.4092e-02, -9.6132e-03,  3.6669e-03,  4.2705e-03,  9.9002e-03,\n",
       "          1.0664e-02, -1.3640e-02, -1.3107e-03, -3.5645e-03, -1.1419e-02,\n",
       "         -1.3776e-02,  2.8514e-03, -6.3460e-03, -8.4525e-03,  3.0211e-03,\n",
       "          5.2496e-04,  1.1522e-03, -7.0781e-03, -1.3070e-02, -6.0888e-04,\n",
       "          5.9496e-03, -9.3788e-03, -6.6772e-03, -1.5979e-03, -8.2723e-03,\n",
       "          4.9595e-03,  1.3557e-03,  7.7101e-03,  1.9758e-02,  1.4086e-02,\n",
       "          1.7104e-03, -2.9098e-03,  1.4914e-02,  7.6355e-03,  6.5801e-03,\n",
       "          1.7375e-02, -2.1854e-02, -9.9910e-03,  8.3866e-03, -4.6605e-03,\n",
       "          1.6624e-03, -2.3128e-02,  2.2345e-03, -7.9295e-03,  4.6856e-03,\n",
       "         -2.7913e-02,  5.8016e-03, -1.5261e-02, -1.1863e-04, -1.8107e-03,\n",
       "          4.5126e-03,  1.8644e-03,  1.9409e-02, -1.4192e-02,  1.0123e-02,\n",
       "          1.9645e-02, -1.5300e-03, -2.0673e-03,  3.0070e-03, -1.5359e-02,\n",
       "          3.1796e-03, -6.8070e-03,  4.1986e-03,  7.6203e-04, -4.7588e-03,\n",
       "          4.9506e-03, -7.2049e-03,  2.1396e-03, -3.7981e-04, -2.7731e-03,\n",
       "         -2.8983e-04,  1.5015e-02, -2.5850e-02,  1.0870e-02,  1.4125e-03,\n",
       "         -9.0017e-03,  5.4321e-03, -7.0946e-03, -6.6524e-03, -4.0747e-04,\n",
       "          4.2907e-03, -1.6650e-02,  6.1763e-03,  4.5040e-03,  6.6318e-03,\n",
       "         -1.6408e-02, -9.0291e-03, -2.5637e-04, -1.2321e-03,  9.6527e-03,\n",
       "          5.6799e-04,  3.8596e-03, -6.8554e-03, -1.7554e-04, -7.7480e-03,\n",
       "         -1.9190e-02, -5.3479e-03,  5.4230e-03, -2.2535e-03,  6.0320e-03,\n",
       "          1.3807e-02,  5.2258e-03,  1.6047e-02,  4.0910e-02, -5.8202e-03,\n",
       "         -1.3001e-02, -1.8711e-03, -1.1752e-02, -1.2366e-02, -5.0636e-03,\n",
       "          3.4010e-03, -1.4464e-02, -1.3218e-02, -6.2057e-03,  1.9009e-02,\n",
       "         -1.3285e-02, -1.3380e-02,  4.2315e-03, -6.0701e-05, -1.8504e-02,\n",
       "         -3.6390e-03,  1.8263e-02, -5.3379e-03, -1.4085e-02,  7.0778e-03,\n",
       "          1.7450e-02,  2.2154e-02,  5.4457e-03, -3.0039e-03, -3.1542e-03,\n",
       "          8.0197e-03, -1.7004e-02,  1.2076e-02,  9.9888e-03, -5.8664e-03,\n",
       "         -2.0733e-03,  6.8285e-03, -6.7051e-03, -6.1057e-03, -1.1112e-02,\n",
       "          8.4456e-03, -1.5570e-02,  6.2625e-03,  7.0650e-03, -3.4047e-02,\n",
       "         -1.1218e-02,  3.0334e-03, -7.6767e-03, -1.8960e-02,  1.5513e-02,\n",
       "          3.5970e-03, -1.5772e-02, -7.9872e-03], requires_grad=True)]"
      ]
     },
     "execution_count": 15,
     "metadata": {},
     "output_type": "execute_result"
    }
   ],
   "source": [
    "list(model.bert.encoder.layer[0].attention.self.value.parameters())"
   ]
  },
  {
   "cell_type": "code",
   "execution_count": 58,
   "metadata": {
    "collapsed": true
   },
   "outputs": [
    {
     "data": {
      "text/plain": [
       "tensor([[ 0.0149,  0.0202,  0.0302,  ...,  0.0057, -0.0113, -0.0225],\n",
       "        [-0.0569,  0.0186,  0.0062,  ...,  0.0121, -0.0153,  0.0126],\n",
       "        [ 0.0135, -0.0128,  0.0405,  ..., -0.0384,  0.0373, -0.0279],\n",
       "        ...,\n",
       "        [ 0.0521,  0.0021, -0.0508,  ...,  0.0534, -0.0321,  0.0261],\n",
       "        [ 0.0779,  0.0410,  0.0308,  ...,  0.0647,  0.0165,  0.0415],\n",
       "        [-0.0381, -0.0468,  0.0601,  ..., -0.0421, -0.0078, -0.0436]])"
      ]
     },
     "execution_count": 58,
     "metadata": {},
     "output_type": "execute_result"
    }
   ],
   "source": [
    "x = list(model.bert.encoder.layer[0].attention.self.query.parameters())[0].data\n",
    "x"
   ]
  },
  {
   "cell_type": "code",
   "execution_count": 59,
   "metadata": {
    "collapsed": true
   },
   "outputs": [
    {
     "data": {
      "text/plain": [
       "tensor([[-0.0018,  0.0177,  0.0639,  ..., -0.0090, -0.0084,  0.0235],\n",
       "        [ 0.0073,  0.0067,  0.0388,  ...,  0.0165, -0.0252,  0.0192],\n",
       "        [ 0.0254, -0.0230, -0.0188,  ..., -0.0064, -0.0064,  0.0853],\n",
       "        ...,\n",
       "        [-0.0181,  0.0045,  0.0045,  ...,  0.0032, -0.0152, -0.0131],\n",
       "        [-0.0080, -0.0160, -0.0021,  ..., -0.0290,  0.0550,  0.0239],\n",
       "        [-0.0355, -0.0506, -0.0188,  ...,  0.0300, -0.0216,  0.0226]])"
      ]
     },
     "execution_count": 59,
     "metadata": {},
     "output_type": "execute_result"
    }
   ],
   "source": [
    "y = list(model.bert.encoder.layer[1].attention.self.query.parameters())[0].data\n",
    "y"
   ]
  },
  {
   "cell_type": "code",
   "execution_count": 62,
   "metadata": {
    "collapsed": true
   },
   "outputs": [
    {
     "data": {
      "text/plain": [
       "tensor([[ 0.0241,  0.0389,  0.0040,  ...,  0.0335,  0.0147, -0.0311],\n",
       "        [-0.0576, -0.0329, -0.0015,  ..., -0.0170, -0.0157,  0.0442],\n",
       "        [-0.0223,  0.0025, -0.0002,  ..., -0.0745,  0.0420,  0.0251],\n",
       "        ...,\n",
       "        [-0.0032, -0.0407, -0.0129,  ..., -0.0144, -0.0147, -0.0322],\n",
       "        [-0.0037, -0.0208, -0.0348,  ...,  0.0338,  0.0078,  0.0418],\n",
       "        [-0.0099,  0.0293, -0.0044,  ..., -0.0352, -0.0309, -0.0080]])"
      ]
     },
     "execution_count": 62,
     "metadata": {},
     "output_type": "execute_result"
    }
   ],
   "source": [
    "y_hat = list(model.bert.encoder.layer[2].attention.self.query.parameters())[0].data\n",
    "y_hat"
   ]
  },
  {
   "cell_type": "code",
   "execution_count": 61,
   "metadata": {},
   "outputs": [
    {
     "name": "stdout",
     "output_type": "stream",
     "text": [
      "tensor(0.9463)\n"
     ]
    }
   ],
   "source": [
    "loss = criterion(x,y)\n",
    "print(loss)"
   ]
  },
  {
   "cell_type": "code",
   "execution_count": 63,
   "metadata": {},
   "outputs": [
    {
     "name": "stdout",
     "output_type": "stream",
     "text": [
      "tensor(1.0797)\n"
     ]
    }
   ],
   "source": [
    "loss = criterion(x,y_hat)\n",
    "print(loss)"
   ]
  },
  {
   "cell_type": "code",
   "execution_count": null,
   "metadata": {},
   "outputs": [],
   "source": []
  },
  {
   "cell_type": "code",
   "execution_count": 1,
   "metadata": {},
   "outputs": [],
   "source": [
    "from model_utils import *\n",
    "import random\n",
    "import time\n",
    "import os\n",
    "from tqdm import tqdm, trange, tqdm_notebook\n",
    "from tqdm.notebook import tqdm as notetqdm"
   ]
  },
  {
   "cell_type": "markdown",
   "metadata": {},
   "source": [
    "## Dice Loss"
   ]
  },
  {
   "cell_type": "code",
   "execution_count": 7,
   "metadata": {},
   "outputs": [
    {
     "name": "stdout",
     "output_type": "stream",
     "text": [
      "compare model 0 loaded\n",
      "models loaded\n",
      "paras-size: 3 * 12: \n"
     ]
    }
   ],
   "source": [
    "MODEL_NAME = 'skimai/spanberta-base-cased'\n",
    "pmodel = 'results/NewsCate-finetune-1121/3e-05-128/1121-epoch-3.pth'\n",
    "# model1 = 'results/elmundo_trained-1123/3e-05-128/1123-epoch-2.pth'\n",
    "model2 = 'results/raw_model_aug-results-1123/3e-05-128/1123-epoch-2.pth'\n",
    "criterion = DiceLoss()\n",
    "models = [model2]\n",
    "cate_nums = [26,7]\n",
    "model_type = [0]\n",
    "m_loss, b_loss = para_compare(MODEL_NAME,pmodel,models,criterion,model_type,cate_nums)"
   ]
  },
  {
   "cell_type": "code",
   "execution_count": 8,
   "metadata": {},
   "outputs": [],
   "source": [
    "import matplotlib.pyplot as plt"
   ]
  },
  {
   "cell_type": "code",
   "execution_count": 9,
   "metadata": {},
   "outputs": [
    {
     "data": {
      "text/plain": [
       "[[],\n",
       " [[tensor(0.9867), tensor(1.0604), tensor(1.0070)],\n",
       "  [tensor(0.9977), tensor(1.0093), tensor(1.3127)],\n",
       "  [tensor(1.0440), tensor(0.9951), tensor(1.0206)],\n",
       "  [tensor(0.9569), tensor(0.9060), tensor(0.9190)],\n",
       "  [tensor(0.7010), tensor(1.0184), tensor(1.6076)],\n",
       "  [tensor(1.0040), tensor(1.0942), tensor(1.3819)],\n",
       "  [tensor(3.0821), tensor(0.9487), tensor(0.8699)],\n",
       "  [tensor(0.9283), tensor(0.9775), tensor(0.8830)],\n",
       "  [tensor(1.1962), tensor(0.9288), tensor(0.9540)],\n",
       "  [tensor(0.9091), tensor(0.9639), tensor(0.9710)],\n",
       "  [tensor(1.0098), tensor(1.0077), tensor(0.8259)],\n",
       "  [tensor(1.0829), tensor(0.8448), tensor(2.7875)]],\n",
       " [[tensor(-11.9628), tensor(116.1785), tensor(-1918.9286)],\n",
       "  [tensor(-27.9984), tensor(-90.2494), tensor(22.1755)],\n",
       "  [tensor(44.8857), tensor(-29.5817), tensor(-25.1344)],\n",
       "  [tensor(54.2151), tensor(23.2076), tensor(-15.3627)],\n",
       "  [tensor(-1632.5116), tensor(-34.0127), tensor(-23.9127)],\n",
       "  [tensor(172.6715), tensor(55.5621), tensor(-261.4901)],\n",
       "  [tensor(186.3894), tensor(74.4825), tensor(109.3273)],\n",
       "  [tensor(-25.3701), tensor(92.3429), tensor(-128.2495)],\n",
       "  [tensor(-78.8827), tensor(-66.6545), tensor(47.2108)],\n",
       "  [tensor(222.5164), tensor(-38.0642), tensor(-61.5610)],\n",
       "  [tensor(222.4661), tensor(397.7906), tensor(-41.7910)],\n",
       "  [tensor(-96.5745), tensor(86.3966), tensor(344.4885)]]]"
      ]
     },
     "execution_count": 9,
     "metadata": {},
     "output_type": "execute_result"
    }
   ],
   "source": [
    "m_loss"
   ]
  },
  {
   "cell_type": "code",
   "execution_count": 10,
   "metadata": {},
   "outputs": [
    {
     "data": {
      "image/png": "[encoded data removed]",
      "text/plain": [
       "<Figure size 1512x1008 with 6 Axes>"
      ]
     },
     "metadata": {
      "needs_background": "light"
     },
     "output_type": "display_data"
    }
   ],
   "source": [
    "model_num = len(m_loss)\n",
    "layer_idx = [i for i in range(12)]\n",
    "matrix_titles = ['Query Loss','Key Loss','value Loss']\n",
    "bias_titles = ['Query Bias','Key Bias','value Bias']\n",
    "plt.figure(figsize=(21,14))\n",
    "for idx in range(1,4):\n",
    "    plt.subplot(2,3,idx)\n",
    "    plt.title(matrix_titles[idx-1])\n",
    "    for i in range(1,model_num):\n",
    "        plt.plot(layer_idx, [value[idx-1] for value in m_loss[i]], label='model-'.format(i))\n",
    "    plt.legend()\n",
    "\n",
    "for idx in range(1,4):\n",
    "    plt.subplot(2,3,idx+3)\n",
    "    plt.title(bias_titles[idx-1])\n",
    "    for i in range(1,model_num):\n",
    "        plt.plot(layer_idx, [value[idx-1] for value in b_loss[i]], label='model-'.format(i))\n",
    "    plt.legend()\n"
   ]
  },
  {
   "cell_type": "code",
   "execution_count": null,
   "metadata": {},
   "outputs": [],
   "source": []
  }
 ],
 "metadata": {
  "kernelspec": {
   "display_name": "Python 3",
   "language": "python",
   "name": "python3"
  },
  "language_info": {
   "codemirror_mode": {
    "name": "ipython",
    "version": 3
   },
   "file_extension": ".py",
   "mimetype": "text/x-python",
   "name": "python",
   "nbconvert_exporter": "python",
   "pygments_lexer": "ipython3",
   "version": "3.7.10"
  }
 },
 "nbformat": 4,
 "nbformat_minor": 4
}
