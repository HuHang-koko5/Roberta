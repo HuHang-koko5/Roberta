{
 "cells": [
  {
   "cell_type": "code",
   "execution_count": 1,
   "metadata": {},
   "outputs": [],
   "source": [
    "from model_utils import *"
   ]
  },
  {
   "cell_type": "code",
   "execution_count": 6,
   "metadata": {},
   "outputs": [],
   "source": [
    "MODEL_NAME = 'skimai/spanberta-base-cased'\n",
    "FILE = 'data/elmoundo_1202.json'\n",
    "MAX_SEQ_LENGTH = 128\n",
    "BATCH_SIZE = 1\n",
    "CATE_LIMIT = 10\n",
    "CATE_USE = 3\n",
    "TASK = 'Soft-presentation'"
   ]
  },
  {
   "cell_type": "code",
   "execution_count": 7,
   "metadata": {},
   "outputs": [],
   "source": [
    "import datetime\n",
    "TODAY = datetime.date.today().strftime(\"%m%d\")\n",
    "RESULT_DIR = 'results/{}-results-{}'.format(TASK,TODAY)\n",
    "SUB_DIR = 'Soft-Presentation'\n",
    "if not os.path.exists(RESULT_DIR):\n",
    "    os.makedirs(RESULT_DIR)\n",
    "if not os.path.exists(\"{}{}\".format(RESULT_DIR,SUB_DIR)):\n",
    "    os.makedirs(\"{}{}\".format(RESULT_DIR,SUB_DIR))\n",
    "OUTPUT_PATH = RESULT_DIR + SUB_DIR"
   ]
  },
  {
   "cell_type": "code",
   "execution_count": 8,
   "metadata": {},
   "outputs": [
    {
     "name": "stdout",
     "output_type": "stream",
     "text": [
      "Data loaded:  70 70\n"
     ]
    },
    {
     "name": "stderr",
     "output_type": "stream",
     "text": [
      "100%|████████████████████████████████████████████████████████████████████████████████| 70/70 [00:00<00:00, 1205.81it/s]"
     ]
    },
    {
     "name": "stdout",
     "output_type": "stream",
     "text": [
      "Tokenizer loaded...\n",
      "encoding time cost : 5.025567293167114\n",
      "data loaded \n",
      "train:49\n",
      "valid:11\n",
      "test:10\n"
     ]
    },
    {
     "name": "stderr",
     "output_type": "stream",
     "text": [
      "\n"
     ]
    }
   ],
   "source": [
    "# load data\n",
    "labels,contents,lset,ldic = load_test_data(FILE,CATE_LIMIT,percentage=1)\n",
    "\n",
    "# encode 1 87s\n",
    "start = time.time()\n",
    "encodings_list = pre_encode_list(MODEL_NAME,contents,MAX_SEQ_LENGTH)\n",
    "print('encoding time cost :',time.time()-start)\n",
    "\n",
    "# load dataset\n",
    "train_dataset = NewsCategoryDataset(labels, encodings_list, contents, ldic)\n",
    "valid_dataset = NewsCategoryDataset(labels, encodings_list, contents, ldic, 'val')\n",
    "test_dataset = NewsCategoryDataset(labels, encodings_list, contents, ldic, 'test')\n",
    "print('data loaded \\ntrain:{}\\nvalid:{}\\ntest:{}'.format(len(train_dataset),\n",
    "                                                          len(valid_dataset),\n",
    "                                                          len(test_dataset)))\n",
    "\n",
    "# dataloader\n",
    "train_val_loaders = {\n",
    "    \"train\": DataLoader(dataset=train_dataset,\n",
    "                        batch_size=BATCH_SIZE,\n",
    "                        shuffle=True),\n",
    "    \"valid\": DataLoader(dataset=valid_dataset,\n",
    "                        batch_size=BATCH_SIZE,\n",
    "                        shuffle=False),\n",
    "    \"test\": DataLoader(dataset=test_dataset,\n",
    "                       batch_size=BATCH_SIZE,\n",
    "                       shuffle=False)\n",
    "}"
   ]
  },
  {
   "cell_type": "code",
   "execution_count": 5,
   "metadata": {},
   "outputs": [],
   "source": [
    "MODELS = [MODEL_NAME]\n",
    "TYPES = ['raw']\n",
    "SOURCE = [None]\n",
    "CATES = [26]"
   ]
  },
  {
   "cell_type": "code",
   "execution_count": 6,
   "metadata": {},
   "outputs": [
    {
     "ename": "SyntaxError",
     "evalue": "invalid syntax (<ipython-input-6-32421c21b278>, line 13)",
     "output_type": "error",
     "traceback": [
      "\u001b[1;36m  File \u001b[1;32m\"<ipython-input-6-32421c21b278>\"\u001b[1;36m, line \u001b[1;32m13\u001b[0m\n\u001b[1;33m    state_dict =\u001b[0m\n\u001b[1;37m                 ^\u001b[0m\n\u001b[1;31mSyntaxError\u001b[0m\u001b[1;31m:\u001b[0m invalid syntax\n"
     ]
    }
   ],
   "source": [
    "bert_results = []\n",
    "cls_results = []\n",
    "tars = []\n",
    "cates = [i for i in range(CATE_USE)]\n",
    "for m,ty,src,ca in zip(MODELS,TYPES,SOURCE,CATES):\n",
    "    if ty == 'raw':\n",
    "        model = RobertaForSequenceClassification(m,ca)\n",
    "        if torch.cuda.is_available():\n",
    "            model = nn.DataParallel(model)\n",
    "            model.cuda()\n",
    "    if ty == 'trained':\n",
    "        model = RobertaForSequenceClassification(m,ca)\n",
    "        st_dict = torch.load(src)\n",
    "        model.load_state_dict(st_dict)\n",
    "    if ty == 'further':\n",
    "        model = R\n",
    "    b_result = []\n",
    "    c_result = []\n",
    "    lab = []\n",
    "    model.eval()\n",
    "    with torch.no_grad():\n",
    "        for idx,data in enumerate(notetqdm(train_val_loaders['train'])):\n",
    "            features = data['input_ids'].cuda()\n",
    "            # print(features.shape)\n",
    "            att_mask = data['attention_mask'].cuda()\n",
    "            target = data['targets']\n",
    "            if target in cates:\n",
    "                # print(att_mask.shape)\n",
    "                bert_out = model.module.bert(features,att_mask)\n",
    "                # print(type(target))\n",
    "                blist = bert_out[0].tolist()\n",
    "                clist = bert_out[0][:, 0].tolist()\n",
    "                tar = target.tolist()[0]\n",
    "                # print(type(tar))\n",
    "                b_result.append(blist)\n",
    "                c_result.append(clist)\n",
    "                lab.append(tar)\n",
    "           \n",
    "    bert_results.append(b_result)\n",
    "    cls_results.append(c_result)\n",
    "    tars.append(lab)"
   ]
  },
  {
   "cell_type": "code",
   "execution_count": 87,
   "metadata": {},
   "outputs": [
    {
     "data": {
      "text/plain": [
       "(24, 24, 24)"
      ]
     },
     "execution_count": 87,
     "metadata": {},
     "output_type": "execute_result"
    }
   ],
   "source": [
    "len(bert_results[0]), len(cls_results[0]), len(tars[0])"
   ]
  },
  {
   "cell_type": "code",
   "execution_count": 88,
   "metadata": {},
   "outputs": [],
   "source": [
    "from matplotlib.colors import rgb2hex\n",
    "import matplotlib.pyplot as plt"
   ]
  },
  {
   "cell_type": "markdown",
   "metadata": {},
   "source": [
    "## 2D"
   ]
  },
  {
   "cell_type": "code",
   "execution_count": 89,
   "metadata": {},
   "outputs": [
    {
     "data": {
      "text/plain": [
       "[1, 2, 0, 2, 0, 1, 0, 0, 1, 1, 0, 1, 2, 2, 2, 2, 2, 1, 1, 1, 0, 0, 0, 1]"
      ]
     },
     "execution_count": 89,
     "metadata": {},
     "output_type": "execute_result"
    }
   ],
   "source": [
    "tars[0]"
   ]
  },
  {
   "cell_type": "code",
   "execution_count": 90,
   "metadata": {},
   "outputs": [
    {
     "data": {
      "text/plain": [
       "(24, 2)"
      ]
     },
     "execution_count": 90,
     "metadata": {},
     "output_type": "execute_result"
    }
   ],
   "source": [
    "import numpy as np\n",
    "from sklearn.manifold import MDS\n",
    "mds2 = MDS(n_components=2)\n",
    "x = np.squeeze(cls_results[0])\n",
    "x.shape\n",
    "x_transformed = mds2.fit_transform(x)\n",
    "x_transformed.shape"
   ]
  },
  {
   "cell_type": "code",
   "execution_count": 91,
   "metadata": {},
   "outputs": [
    {
     "data": {
      "text/plain": [
       "(24, 24, 24, 24)"
      ]
     },
     "execution_count": 91,
     "metadata": {},
     "output_type": "execute_result"
    }
   ],
   "source": [
    "colors = ['b','g','r']\n",
    "#colors = tuple([(np.random.random(),np.random.random(),np.random.random()) for i in range(CATE_USE)])\n",
    "colors = [rgb2hex(x) for x in colors]\n",
    "dot_color = [colors[i] for i in tars[0]]\n",
    "xs, ys, cs, ts = x_transformed[:,0], x_transformed[:,1], dot_color, tars[0]\n",
    "len(xs),len(ys),len(cs),len(ts)"
   ]
  },
  {
   "cell_type": "code",
   "execution_count": 92,
   "metadata": {},
   "outputs": [
    {
     "data": {
      "image/png": "[encoded data removed]",
      "text/plain": [
       "<Figure size 432x288 with 1 Axes>"
      ]
     },
     "metadata": {
      "needs_background": "light"
     },
     "output_type": "display_data"
    },
    {
     "data": {
      "text/plain": [
       "<Figure size 800x1600 with 0 Axes>"
      ]
     },
     "metadata": {},
     "output_type": "display_data"
    }
   ],
   "source": [
    "fig = plt.figure()\n",
    "plt.figure(figsize=(2,4), dpi=400)\n",
    "ax = fig.add_subplot(1,1,1)\n",
    "label_set = list(set(tars[0]))\n",
    "ax.scatter(xs,ys,c=cs,label=ts)\n",
    "\n",
    "#legend = ax.legend(loc='best')\n",
    "fig.savefig('cluster')"
   ]
  },
  {
   "cell_type": "markdown",
   "metadata": {},
   "source": [
    "## 3d"
   ]
  },
  {
   "cell_type": "code",
   "execution_count": 93,
   "metadata": {},
   "outputs": [
    {
     "data": {
      "text/plain": [
       "(24, 3)"
      ]
     },
     "execution_count": 93,
     "metadata": {},
     "output_type": "execute_result"
    }
   ],
   "source": [
    "mds3 = MDS(n_components=3)\n",
    "x = np.squeeze(cls_results[0])\n",
    "x.shape\n",
    "x_transformed = mds3.fit_transform(x)\n",
    "x_transformed.shape"
   ]
  },
  {
   "cell_type": "code",
   "execution_count": 94,
   "metadata": {},
   "outputs": [
    {
     "data": {
      "text/plain": [
       "(array([], dtype=int64),)"
      ]
     },
     "execution_count": 94,
     "metadata": {},
     "output_type": "execute_result"
    }
   ],
   "source": [
    "labs = np.array(tars[0])\n",
    "np.where(tars[0] == 1)"
   ]
  },
  {
   "cell_type": "code",
   "execution_count": 95,
   "metadata": {},
   "outputs": [
    {
     "name": "stdout",
     "output_type": "stream",
     "text": [
      "['#0000ff', '#ff0000', '#bfbf00']\n"
     ]
    },
    {
     "data": {
      "text/plain": [
       "(24, 24, 24, 24, 24)"
      ]
     },
     "execution_count": 95,
     "metadata": {},
     "output_type": "execute_result"
    }
   ],
   "source": [
    "colors = ['b','r','y']\n",
    "colors = [rgb2hex(x) for x in colors]\n",
    "print(colors)\n",
    "dot_color = [colors[i] for i in tars[0]]\n",
    "xs, ys, zs, cs, ts = x_transformed[:,0], x_transformed[:,1], x_transformed[:,2], dot_color, tars[0]\n",
    "len(xs),len(ys),len(zs),len(cs),len(ts)"
   ]
  },
  {
   "cell_type": "code",
   "execution_count": 96,
   "metadata": {
    "scrolled": false
   },
   "outputs": [
    {
     "data": {
      "image/png": "[encoded data removed]",
      "text/plain": [
       "<Figure size 432x288 with 1 Axes>"
      ]
     },
     "metadata": {
      "needs_background": "light"
     },
     "output_type": "display_data"
    },
    {
     "data": {
      "text/plain": [
       "<Figure size 800x1600 with 0 Axes>"
      ]
     },
     "metadata": {},
     "output_type": "display_data"
    }
   ],
   "source": [
    "fig = plt.figure()\n",
    "plt.figure(figsize=(2,4), dpi=400)\n",
    "ax = fig.add_subplot(projection='3d')\n",
    "fig.subplots_adjust(top=5, bottom=-5)\n",
    "\n",
    "\n",
    "label_set = list(set(tars[0]))\n",
    "\n",
    "ax.scatter(xs,ys,zs,c=cs,label=ts)\n",
    "\n",
    "#legend = ax.legend(loc='best')\n",
    "fig.savefig('cluster')"
   ]
  },
  {
   "cell_type": "code",
   "execution_count": 3,
   "metadata": {},
   "outputs": [],
   "source": [
    "a = torch.Tensor([1])"
   ]
  },
  {
   "cell_type": "code",
   "execution_count": 6,
   "metadata": {},
   "outputs": [
    {
     "name": "stdout",
     "output_type": "stream",
     "text": [
      "tensor([1.])\n"
     ]
    }
   ],
   "source": [
    "if a in [1,2]:\n",
    "    print(a)"
   ]
  },
  {
   "cell_type": "code",
   "execution_count": null,
   "metadata": {},
   "outputs": [],
   "source": [
    "type(a.tolist()[0])"
   ]
  },
  {
   "cell_type": "code",
   "execution_count": null,
   "metadata": {},
   "outputs": [],
   "source": [
    "fig = plt.figure()\n",
    "ax = fig.add_subplot(projection='3d')\n",
    "\n",
    "\n",
    "label_set = list(set(tars[0]))\n",
    "\n",
    "ax.scatter(xs,ys,zs,c=cs,label=ts)\n",
    "\n",
    "#legend = ax.legend(loc='best')\n",
    "fig.savefig('cluster')"
   ]
  }
 ],
 "metadata": {
  "kernelspec": {
   "display_name": "Python 3",
   "language": "python",
   "name": "python3"
  },
  "language_info": {
   "codemirror_mode": {
    "name": "ipython",
    "version": 3
   },
   "file_extension": ".py",
   "mimetype": "text/x-python",
   "name": "python",
   "nbconvert_exporter": "python",
   "pygments_lexer": "ipython3",
   "version": "3.7.9"
  }
 },
 "nbformat": 4,
 "nbformat_minor": 4
}
